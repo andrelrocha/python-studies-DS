{
 "cells": [
  {
   "cell_type": "code",
   "execution_count": 2,
   "id": "695d5dc3-e927-4943-9e93-6e18e4ba5a80",
   "metadata": {},
   "outputs": [
    {
     "name": "stdout",
     "output_type": "stream",
     "text": [
      "60\n"
     ]
    }
   ],
   "source": [
    "valores = [10, 20, 30]\n",
    "soma = 0\n",
    "for var in valores:\n",
    "    soma +=var\n",
    "\n",
    "print(soma)"
   ]
  },
  {
   "cell_type": "code",
   "execution_count": 3,
   "id": "6b8c6fcd-bccd-4ce4-9321-c91c36d1ff3e",
   "metadata": {},
   "outputs": [
    {
     "name": "stdout",
     "output_type": "stream",
     "text": [
      "0\n",
      "1\n",
      "2\n",
      "3\n",
      "4\n"
     ]
    }
   ],
   "source": [
    "for valores in range(5):\n",
    "    print(valores)"
   ]
  },
  {
   "cell_type": "code",
   "execution_count": 4,
   "id": "ea17a4b3-180b-462a-afc6-6baa529c1106",
   "metadata": {},
   "outputs": [
    {
     "name": "stdout",
     "output_type": "stream",
     "text": [
      "banana\n",
      "maçã\n",
      "laranja\n",
      "acerola\n"
     ]
    }
   ],
   "source": [
    "frutas = ['banana', 'maçã', 'laranja', 'acerola'] \n",
    "\n",
    "for fruta in frutas: \n",
    "    print(fruta)"
   ]
  },
  {
   "cell_type": "code",
   "execution_count": 5,
   "id": "1a72e0ca-917e-472a-8dd6-1d547c02cf7a",
   "metadata": {},
   "outputs": [
    {
     "name": "stdout",
     "output_type": "stream",
     "text": [
      "10\n",
      "11\n",
      "12\n",
      "13\n",
      "14\n"
     ]
    }
   ],
   "source": [
    "for valores in range(10, 15):\n",
    "    print(valores)"
   ]
  },
  {
   "cell_type": "code",
   "execution_count": 7,
   "id": "ad3331cd-56fe-4844-a0ed-a69631c4ccbe",
   "metadata": {},
   "outputs": [
    {
     "name": "stdout",
     "output_type": "stream",
     "text": [
      "10\n",
      "12\n",
      "14\n",
      "16\n",
      "18\n"
     ]
    }
   ],
   "source": [
    "for valores in range(10, 20, 2):\n",
    "    print(valores)"
   ]
  },
  {
   "cell_type": "markdown",
   "id": "b0238f26-cade-4c9d-a187-eba2128dda44",
   "metadata": {},
   "source": [
    "um número X é primo se para todo número N entre 2 e X - 1, o resto da divisão entre X e N é diferente de 0. \n",
    "Seguindo essa lógica, desenvolva um notebook Jupyter com um programa Python que apresente textualmente todos os números primos entre 2 e 100 (incluindo o valor 100)."
   ]
  },
  {
   "cell_type": "markdown",
   "id": "f474bfe9-20a8-402a-8d7c-8e4521bca384",
   "metadata": {},
   "source": [
    "um número X é primo se para todo número N entre 2 e X - 1, o resto da divisão entre X e N é diferente de 0. \n",
    "Seguindo essa lógica, desenvolva um notebook Jupyter com um programa Python que apresente textualmente todos os números primos entre 2 e 100 (incluindo o valor 100)."
   ]
  },
  {
   "cell_type": "code",
   "execution_count": 11,
   "id": "7edeafb4-73bf-4800-935a-e9642da19031",
   "metadata": {},
   "outputs": [
    {
     "name": "stdout",
     "output_type": "stream",
     "text": [
      "o número 3 é primo\n",
      "o número 5 é primo\n",
      "o número 7 é primo\n",
      "o número 9 é primo\n",
      "o número 11 é primo\n",
      "o número 13 é primo\n",
      "o número 15 é primo\n",
      "o número 17 é primo\n",
      "o número 19 é primo\n",
      "o número 21 é primo\n",
      "o número 23 é primo\n",
      "o número 25 é primo\n",
      "o número 27 é primo\n",
      "o número 29 é primo\n",
      "o número 31 é primo\n",
      "o número 33 é primo\n",
      "o número 35 é primo\n",
      "o número 37 é primo\n",
      "o número 39 é primo\n",
      "o número 41 é primo\n",
      "o número 43 é primo\n",
      "o número 45 é primo\n",
      "o número 47 é primo\n",
      "o número 49 é primo\n",
      "o número 51 é primo\n",
      "o número 53 é primo\n",
      "o número 55 é primo\n",
      "o número 57 é primo\n",
      "o número 59 é primo\n",
      "o número 61 é primo\n",
      "o número 63 é primo\n",
      "o número 65 é primo\n",
      "o número 67 é primo\n",
      "o número 69 é primo\n",
      "o número 71 é primo\n",
      "o número 73 é primo\n",
      "o número 75 é primo\n",
      "o número 77 é primo\n",
      "o número 79 é primo\n",
      "o número 81 é primo\n",
      "o número 83 é primo\n",
      "o número 85 é primo\n",
      "o número 87 é primo\n",
      "o número 89 é primo\n",
      "o número 91 é primo\n",
      "o número 93 é primo\n",
      "o número 95 é primo\n",
      "o número 97 é primo\n",
      "o número 99 é primo\n"
     ]
    }
   ],
   "source": [
    "def e_primo(x):\n",
    "    for n in range(2,x):\n",
    "        if x % n == 0: \n",
    "            return False\n",
    "        else: \n",
    "            return True\n",
    "\n",
    "for n in range(2,101):\n",
    "    if e_primo(n): \n",
    "        print(f\"o número {n} é primo\")\n",
    "    "
   ]
  },
  {
   "cell_type": "code",
   "execution_count": null,
   "id": "a31ab89c-cea6-476c-8248-fba399af1ff4",
   "metadata": {},
   "outputs": [],
   "source": []
  }
 ],
 "metadata": {
  "kernelspec": {
   "display_name": "Python 3 (ipykernel)",
   "language": "python",
   "name": "python3"
  },
  "language_info": {
   "codemirror_mode": {
    "name": "ipython",
    "version": 3
   },
   "file_extension": ".py",
   "mimetype": "text/x-python",
   "name": "python",
   "nbconvert_exporter": "python",
   "pygments_lexer": "ipython3",
   "version": "3.12.4"
  }
 },
 "nbformat": 4,
 "nbformat_minor": 5
}
