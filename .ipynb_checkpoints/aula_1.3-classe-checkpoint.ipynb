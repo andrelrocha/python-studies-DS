{
 "cells": [
  {
   "cell_type": "code",
   "execution_count": 18,
   "id": "d195cf70-3967-4087-9d71-f1e5314b4ebc",
   "metadata": {},
   "outputs": [
    {
     "name": "stdout",
     "output_type": "stream",
     "text": [
      "10\n",
      "20\n",
      "deu certo\n"
     ]
    }
   ],
   "source": [
    "x = 10\n",
    "print(x)\n",
    "x+=10\n",
    "print(x)\n",
    "\n",
    "if x != 21 and x > 10: \n",
    "    print(\"deu certo\")"
   ]
  },
  {
   "cell_type": "code",
   "execution_count": 8,
   "id": "d05418fb-3a65-4fe3-9c40-05260c25320f",
   "metadata": {},
   "outputs": [
    {
     "name": "stdout",
     "output_type": "stream",
     "text": [
      "User(id='1', login='user1', password='pass123', name='John Doe')\n"
     ]
    }
   ],
   "source": [
    "from dataclasses import dataclass\n",
    "\n",
    "@dataclass\n",
    "class User:\n",
    "    id: str\n",
    "    login: str\n",
    "    password: str\n",
    "    name: str\n",
    "\n",
    "user1 = User(id='1', login='user1', password='pass123', name='John Doe')\n",
    "\n",
    "print(user1)"
   ]
  },
  {
   "cell_type": "code",
   "execution_count": 12,
   "id": "bbbc9b10-d27c-4891-b083-19821d3d4561",
   "metadata": {},
   "outputs": [
    {
     "name": "stdout",
     "output_type": "stream",
     "text": [
      "Andre\n"
     ]
    }
   ],
   "source": [
    "class User: \n",
    "    id: ''\n",
    "    login: ''\n",
    "    password: ''\n",
    "    name: ''\n",
    "\n",
    "andre = User()\n",
    "andre.id = '1'\n",
    "andre.login = 'andre'\n",
    "andre.password = 'pass123'\n",
    "andre.name = 'Andre'\n",
    "\n",
    "print(andre.name)"
   ]
  },
  {
   "cell_type": "code",
   "execution_count": 16,
   "id": "c7f3e5fb-1644-4a03-85e3-4beea9de1ccc",
   "metadata": {},
   "outputs": [
    {
     "name": "stdout",
     "output_type": "stream",
     "text": [
      "Avatar\n"
     ]
    }
   ],
   "source": [
    "class Filme:\n",
    "    nro_copias = 0\n",
    "    titulo = ''\n",
    "    genero = ''\n",
    "    data_lancamento = ''\n",
    "\n",
    "avatar = Filme()\n",
    "avatar.titulo = 'Avatar'\n",
    "\n",
    "print(avatar.titulo)"
   ]
  },
  {
   "cell_type": "code",
   "execution_count": 17,
   "id": "c2cda377-249e-474d-95c4-46858b4e465d",
   "metadata": {},
   "outputs": [
    {
     "name": "stdin",
     "output_type": "stream",
     "text": [
      "Qual o seu nome? andre\n",
      "Qual a sua idade? 24\n",
      "Qual o seu endereço?  zozimo\n",
      "Qual o seu telefone?  859\n",
      "Qual o nome do seu pet?  papoco\n",
      "Qual o tipo do seu pet? (ex: cachorro, gato)  cachorro\n",
      "Qual a idade do seu pet?  3\n",
      "Qual o peso do seu pet? (em kg)  35\n",
      "Seu pet tem alguma doença?  nao\n"
     ]
    },
    {
     "name": "stdout",
     "output_type": "stream",
     "text": [
      "\n",
      "Dados do Cliente:\n",
      "Nome: andre\n",
      "Idade: 24\n",
      "Endereço: zozimo\n",
      "Telefone: 859\n",
      "\n",
      "Dados do Pet:\n",
      "Nome: papoco\n",
      "Tipo: cachorro\n",
      "Idade: 3\n",
      "Peso: 35.0\n",
      "Doença: nao\n"
     ]
    }
   ],
   "source": [
    "class Cliente: \n",
    "    nome: ''\n",
    "    idade: 0\n",
    "    endereco: ''\n",
    "    telefone: ''\n",
    "\n",
    "class Animal:\n",
    "    nome: ''\n",
    "    tipo: ''\n",
    "    idade: 0\n",
    "    peso: 0.0\n",
    "    doenca: ''\n",
    "\n",
    "cliente = Cliente()\n",
    "cliente.nome = input(\"Qual o seu nome?\")\n",
    "cliente.idade = int(input(\"Qual a sua idade?\"))\n",
    "cliente.endereco = input(\"Qual o seu endereço? \")\n",
    "cliente.telefone = input(\"Qual o seu telefone? \")\n",
    "\n",
    "pet = Animal()\n",
    "pet.nome = input(\"Qual o nome do seu pet? \")\n",
    "pet.tipo = input(\"Qual o tipo do seu pet? (ex: cachorro, gato) \")\n",
    "pet.idade = int(input(\"Qual a idade do seu pet? \"))\n",
    "pet.peso = float(input(\"Qual o peso do seu pet? (em kg) \"))\n",
    "pet.doenca = input(\"Seu pet tem alguma doença? \")\n",
    "\n",
    "print(\"\\nDados do Cliente:\")\n",
    "print(f\"Nome: {cliente.nome}\")\n",
    "print(f\"Idade: {cliente.idade}\")\n",
    "print(f\"Endereço: {cliente.endereco}\")\n",
    "print(f\"Telefone: {cliente.telefone}\")\n",
    "\n",
    "print(\"\\nDados do Pet:\")\n",
    "print(f\"Nome: {pet.nome}\")\n",
    "print(f\"Tipo: {pet.tipo}\")\n",
    "print(f\"Idade: {pet.idade}\")\n",
    "print(f\"Peso: {pet.peso}\")\n",
    "print(f\"Doença: {pet.doenca}\")"
   ]
  },
  {
   "cell_type": "code",
   "execution_count": null,
   "id": "ee64f17e-fa48-4b50-a84e-b62819d3f9e5",
   "metadata": {},
   "outputs": [],
   "source": []
  }
 ],
 "metadata": {
  "kernelspec": {
   "display_name": "Python 3 (ipykernel)",
   "language": "python",
   "name": "python3"
  },
  "language_info": {
   "codemirror_mode": {
    "name": "ipython",
    "version": 3
   },
   "file_extension": ".py",
   "mimetype": "text/x-python",
   "name": "python",
   "nbconvert_exporter": "python",
   "pygments_lexer": "ipython3",
   "version": "3.12.4"
  }
 },
 "nbformat": 4,
 "nbformat_minor": 5
}
