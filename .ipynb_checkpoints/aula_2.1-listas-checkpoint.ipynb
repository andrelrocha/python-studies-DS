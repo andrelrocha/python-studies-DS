{
 "cells": [
  {
   "cell_type": "code",
   "execution_count": 3,
   "id": "ef5b1c74-f3fc-498e-96eb-575f9077c719",
   "metadata": {},
   "outputs": [
    {
     "name": "stdout",
     "output_type": "stream",
     "text": [
      "5.24\n",
      "50\n",
      "99.49\n"
     ]
    }
   ],
   "source": [
    "gastos = [23.5, 45.6, 5.24, 2.36, 99.49]\n",
    "\n",
    "print(gastos[2])\n",
    "\n",
    "gastos[2] = 50\n",
    "\n",
    "print(gastos[2])\n",
    "\n",
    "print(gastos[-1])"
   ]
  },
  {
   "cell_type": "code",
   "execution_count": 9,
   "id": "8774ae79-3225-4a51-bc9e-b4f88688e66a",
   "metadata": {},
   "outputs": [
    {
     "name": "stdout",
     "output_type": "stream",
     "text": [
      "[23.5, 45.6, 5.24, 2.36, 99.49]\n",
      "[23.5, 5.24, 2.36, 99.49]\n",
      "[23.5, 20, 5.24, 2.36, 99.49, 100]\n",
      "[20, 5.24, 2.36]\n",
      "250.59\n"
     ]
    }
   ],
   "source": [
    "gastos = [23.5, 45.6, 5.24, 2.36, 99.49]\n",
    "\n",
    "print(gastos)\n",
    "\n",
    "del gastos[1]\n",
    "\n",
    "print(gastos)\n",
    "\n",
    "gastos.insert(len(gastos), 100)\n",
    "gastos.insert(1, 20)\n",
    "\n",
    "print(gastos)\n",
    "\n",
    "print(gastos[1:4]) #aqui só imprime até o indíce x:n, de x até n-1\n",
    "\n",
    "\n",
    "soma = sum(gastos)\n",
    "print(soma)"
   ]
  },
  {
   "cell_type": "code",
   "execution_count": 13,
   "id": "25e6cf5d-7d6b-4f00-9e1f-74001f6823f9",
   "metadata": {},
   "outputs": [
    {
     "name": "stdout",
     "output_type": "stream",
     "text": [
      "[216, 220, 222, 232, 240, 252, 268, 270]\n",
      "[215, 221, 225, 269, 275, 279]\n",
      "[221, 225, 269, 275]\n"
     ]
    }
   ],
   "source": [
    "casas_pares = [216, 220, 222, 268, 270]\n",
    "casas_pares = casas_pares[:3] + [232, 240, 252] + casas_pares[3:] #faz um duplo slice e adiciona o novo array no meio da concatenação\n",
    "\n",
    "print(casas_pares)\n",
    "\n",
    "casas_impares = [215, 221, 225, 269, 275]\n",
    "casas_impares.append(279)\n",
    "\n",
    "print(casas_impares)\n",
    "\n",
    "casas_impares.pop()\n",
    "casas_impares.pop(0)\n",
    "print(casas_impares)"
   ]
  },
  {
   "cell_type": "code",
   "execution_count": 16,
   "id": "0e274c39-3386-4147-a28b-d4b6b931a277",
   "metadata": {},
   "outputs": [
    {
     "name": "stdout",
     "output_type": "stream",
     "text": [
      "[1, 2, 3, 4, 5]\n",
      "[1, 2, 4, 5]\n",
      "3\n"
     ]
    }
   ],
   "source": [
    "lista = [1, 2, 3]\n",
    "lista.extend([4, 5])\n",
    "print(lista)\n",
    "\n",
    "lista.remove(3)\n",
    "print(lista)\n",
    "\n",
    "lista.extend([1, 1])\n",
    "print(lista.count(1))"
   ]
  },
  {
   "cell_type": "code",
   "execution_count": 21,
   "id": "6a9922c2-5a01-4386-85e3-e8c57866ce68",
   "metadata": {},
   "outputs": [
    {
     "name": "stdout",
     "output_type": "stream",
     "text": [
      "[1, 2, 3, 4]\n",
      "[4, 3, 2, 1]\n",
      "[1, 2, 3, 4]\n",
      "[1, 2, 3, 4, 5]\n"
     ]
    }
   ],
   "source": [
    "lista = [4, 2, 3, 1]\n",
    "lista.sort() #crescente\n",
    "print(lista)\n",
    "\n",
    "lista.sort(reverse = True) #decrescente\n",
    "print(lista)\n",
    "\n",
    "lista.reverse()\n",
    "print(lista)\n",
    "\n",
    "if not 5 in lista:\n",
    "    lista.append(5)\n",
    "\n",
    "print(lista)"
   ]
  },
  {
   "cell_type": "code",
   "execution_count": 23,
   "id": "bf39aeb9-3579-4cf3-8725-04a14c7a0988",
   "metadata": {},
   "outputs": [
    {
     "name": "stdout",
     "output_type": "stream",
     "text": [
      "['farinha', 'açúcar', 'leite', 'ovos', 'manteiga', 'farinha']\n",
      "['farinha integral', 'açúcar', 'leite', 'ovos', 'manteiga', 'farinha integral']\n"
     ]
    }
   ],
   "source": [
    "compras = [\"farinha\", \"açúcar\", \"leite\", \"ovos\", \"manteiga\", \"farinha\"]\n",
    "print(compras)\n",
    "\n",
    "while 'farinha' in compras:\n",
    "    posicao = compras.index(\"farinha\")\n",
    "    compras[posicao] = 'farinha integral'\n",
    "\n",
    "print(compras)"
   ]
  },
  {
   "cell_type": "code",
   "execution_count": 26,
   "id": "d35fe73d-91a0-475b-8ed5-f777a8667dd4",
   "metadata": {},
   "outputs": [
    {
     "name": "stdout",
     "output_type": "stream",
     "text": [
      "[7.3, 4.5, 6.7, 5.2, 8.6, 1.2, 9.4]\n",
      "[6.7, 7.3, 8.6, 9.4]\n",
      "sua média foi de 8.0\n"
     ]
    }
   ],
   "source": [
    "notas = [7.3, 4.5, 6.7, 5.2, 8.6, 1.2, 9.4]\n",
    "print(notas)\n",
    "\n",
    "notas.sort()\n",
    "notas = notas[3:len(notas)]\n",
    "\n",
    "print(notas)\n",
    "\n",
    "media = sum(notas)/ len(notas)\n",
    "\n",
    "print(f\"sua média foi de {media}\")"
   ]
  },
  {
   "cell_type": "code",
   "execution_count": 29,
   "id": "cd96274d-9804-4148-9f6b-fa887dab9619",
   "metadata": {},
   "outputs": [
    {
     "name": "stdout",
     "output_type": "stream",
     "text": [
      "lavar\n",
      "0.5\n",
      "0\n",
      "cozinhar\n",
      "1.0\n",
      "2\n",
      "exercitar-se\n",
      "1.5\n",
      "1\n",
      "cozinhar\n",
      "1.0\n",
      "2\n",
      "exercitar-se\n",
      "1.5\n",
      "1\n",
      "lavar\n",
      "0.5\n",
      "0\n"
     ]
    }
   ],
   "source": [
    "class Tarefa:\n",
    "    titulo: \"\"\n",
    "    duracao: 0\n",
    "    dificuldade: 0\n",
    "\n",
    "tarefas = [Tarefa(), Tarefa(), Tarefa()]\n",
    "\n",
    "tarefas[0].titulo = 'lavar'\n",
    "tarefas[0].duracao = 0.5\n",
    "tarefas[0].dificuldade = 0\n",
    "\n",
    "tarefas[1].titulo = 'cozinhar'\n",
    "tarefas[1].duracao = 1.0\n",
    "tarefas[1].dificuldade = 2\n",
    "\n",
    "tarefas[2].titulo = 'exercitar-se'\n",
    "tarefas[2].duracao = 1.5\n",
    "tarefas[2].dificuldade = 1\n",
    "\n",
    "for tarefa in tarefas:\n",
    "    print(tarefa.titulo)\n",
    "    print(tarefa.duracao)\n",
    "    print(tarefa.dificuldade)\n",
    "\n",
    "tarefas.sort(key=lambda t: t.titulo)\n",
    "\n",
    "for tarefa in tarefas:\n",
    "    print(tarefa.titulo)\n",
    "    print(tarefa.duracao)\n",
    "    print(tarefa.dificuldade)"
   ]
  },
  {
   "cell_type": "code",
   "execution_count": 31,
   "id": "d2b9e8bb-5b9b-4592-99ba-cc9f21da414b",
   "metadata": {},
   "outputs": [
    {
     "name": "stdout",
     "output_type": "stream",
     "text": [
      "[9.219544457292882, 19.409276132818558, 15.243359209832988, 14.69965986001037, 22.080081521588642, 9.716995420396161, 11.315917991926243, 11.0136279218067]\n",
      "[4, 9, 7, 7, 11, 4, 5, 5]\n",
      "A quantidade total de arame formado foi 112.69846251567255\n",
      "A quantidade total de estacas foi 52\n"
     ]
    }
   ],
   "source": [
    "import math\n",
    "\n",
    "terreno = [\n",
    "    [42.7, 71.9],\n",
    "    [38.9, 80.3],\n",
    "    [56.3, 88.9],\n",
    "    [70.7, 83.9],\n",
    "    [74.5, 69.7],\n",
    "    [56.8, 56.5],\n",
    "    [47.9, 60.4],\n",
    "    [36.8, 62.6],\n",
    "]\n",
    "\n",
    "distancias = []\n",
    "total_estacas = []\n",
    "aux = 0\n",
    "\n",
    "for coordenada in terreno:\n",
    "    canto = terreno[aux]\n",
    "    x1 = canto[0]\n",
    "    y1 = canto[1]\n",
    "\n",
    "    if aux != len(terreno) -1:  \n",
    "        proximo = terreno[aux+1]\n",
    "    else:\n",
    "        proximo = terreno[0]\n",
    "        \n",
    "    x2 = proximo[0]\n",
    "    y2 = proximo[1]\n",
    "\n",
    "    distancia = math.sqrt((y2 - y1)**2 + (x2-x1)**2)\n",
    "    distancias.append(distancia)\n",
    "    aux+=1\n",
    "\n",
    "for distancia in distancias:\n",
    "    quantidade_estacas = int(distancia) // 2\n",
    "    total_estacas.append(quantidade_estacas)\n",
    "\n",
    "print(distancias)\n",
    "print(total_estacas)\n",
    "print(\"A quantidade total de arame formado foi {}\".format(sum(distancias)))\n",
    "print(\"A quantidade total de estacas foi {}\".format(sum(total_estacas)))"
   ]
  },
  {
   "cell_type": "code",
   "execution_count": 32,
   "id": "c3488efb-bdc8-4ae9-83d0-9b39d4592a56",
   "metadata": {},
   "outputs": [
    {
     "name": "stdout",
     "output_type": "stream",
     "text": [
      "Distâncias dos segmentos:  [9.219544457292882, 19.409276132818558, 15.243359209832988, 14.69965986001037, 22.080081521588642, 9.716995420396161, 11.315917991926243, 11.0136279218067]\n",
      "Estacas por segmento:  [4, 9, 7, 7, 11, 4, 5, 5]\n",
      "A quantidade total de arame farpado utilizado foi: 112.70 metros\n",
      "A quantidade total de estacas de madeira utilizada foi: 52\n"
     ]
    }
   ],
   "source": [
    "## CHATGPT RESPONSE\n",
    "import math\n",
    "\n",
    "terreno = [\n",
    "    [42.7, 71.9],\n",
    "    [38.9, 80.3],\n",
    "    [56.3, 88.9],\n",
    "    [70.7, 83.9],\n",
    "    [74.5, 69.7],\n",
    "    [56.8, 56.5],\n",
    "    [47.9, 60.4],\n",
    "    [36.8, 62.6],\n",
    "]\n",
    "\n",
    "distancias = []\n",
    "estacas_por_segmento = []\n",
    "\n",
    "# Calcular distâncias e estacas\n",
    "for i in range(len(terreno)):\n",
    "    x1, y1 = terreno[i]\n",
    "    x2, y2 = terreno[(i + 1) % len(terreno)]  # Ponto seguinte, ou volta ao início\n",
    "\n",
    "    distancia = math.sqrt((x2 - x1)**2 + (y2 - y1)**2)\n",
    "    distancias.append(distancia)\n",
    "\n",
    "    # Calcular a quantidade de estacas, não contar as estacas dos extremos\n",
    "    quantidade_estacas = int(distancia // 2)  # Estacas a cada 2 metros\n",
    "    estacas_por_segmento.append(quantidade_estacas)\n",
    "\n",
    "# Calcular o total de arame e estacas\n",
    "total_arame = sum(distancias)\n",
    "total_estacas = sum(estacas_por_segmento)  # Considerar todas as estacas, inclusive as dos extremos\n",
    "\n",
    "print(\"Distâncias dos segmentos: \", distancias)\n",
    "print(\"Estacas por segmento: \", estacas_por_segmento)\n",
    "print(\"A quantidade total de arame farpado utilizado foi: {:.2f} metros\".format(total_arame))\n",
    "print(\"A quantidade total de estacas de madeira utilizada foi: {}\".format(total_estacas))\n"
   ]
  },
  {
   "cell_type": "code",
   "execution_count": null,
   "id": "c51bd041-4a35-4889-94d6-082a4a9b2d9f",
   "metadata": {},
   "outputs": [],
   "source": []
  }
 ],
 "metadata": {
  "kernelspec": {
   "display_name": "Python 3 (ipykernel)",
   "language": "python",
   "name": "python3"
  },
  "language_info": {
   "codemirror_mode": {
    "name": "ipython",
    "version": 3
   },
   "file_extension": ".py",
   "mimetype": "text/x-python",
   "name": "python",
   "nbconvert_exporter": "python",
   "pygments_lexer": "ipython3",
   "version": "3.12.4"
  }
 },
 "nbformat": 4,
 "nbformat_minor": 5
}
