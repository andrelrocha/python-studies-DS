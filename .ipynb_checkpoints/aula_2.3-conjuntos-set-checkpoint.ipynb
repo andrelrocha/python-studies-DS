{
 "cells": [
  {
   "cell_type": "code",
   "execution_count": 34,
   "id": "76c5530c-50b1-491e-b19a-30775a723b15",
   "metadata": {},
   "outputs": [
    {
     "name": "stdout",
     "output_type": "stream",
     "text": [
      "{'r', 'c', 'e', ' ', 'o', 'n', 'A', 'd', 'u', 'R', 'a', 'L', 'h', 'i'}\n",
      "{'D', 'O', 'U', 'I', 'R', 'A', 'N', 'C', 'E', 'L', 'H'}\n"
     ]
    }
   ],
   "source": [
    "nome = \"Andre Lucio Rocha\"\n",
    "\n",
    "print(set(nome))\n",
    "\n",
    "nome_tratado = nome.replace(' ', '').upper()\n",
    "\n",
    "print(set(nome_tratado))"
   ]
  },
  {
   "cell_type": "code",
   "execution_count": 36,
   "id": "183cab4e-fc2c-4b93-b21a-5fb89b9a36e8",
   "metadata": {},
   "outputs": [
    {
     "name": "stdout",
     "output_type": "stream",
     "text": [
      "{'Natal', 'Brasília', 'Cuiabá', 'Rio de Janeiro', 'Manaus', 'Belo Horizonte', 'Fortaleza'}\n",
      "{'#curtição', '#férias', '#viagem', '#descanso', '#mar', '#natureza', '#sol', '#litoral'}\n"
     ]
    }
   ],
   "source": [
    "cidades = [\n",
    "'Manaus', 'Brasília', 'Fortaleza', 'Manaus', 'Rio de Janeiro', 'Brasília',\n",
    "'Fortaleza', 'Natal', 'Belo Horizonte', 'Fortaleza', 'Cuiabá', 'Rio de Janeiro'\n",
    "]\n",
    "\n",
    "print(set(cidades))\n",
    "\n",
    "\n",
    "hashtags = (\n",
    "'#sol', '#litoral', '#mar', '#natureza', '#viagem', '#natureza',\n",
    "'#curtição', '#descanso', '#férias', '#viagem', '#viagem', '#litoral'\n",
    ")\n",
    "\n",
    "print(set(hashtags))"
   ]
  },
  {
   "cell_type": "code",
   "execution_count": 38,
   "id": "330354d7-2274-40dc-a004-b68fccb45f35",
   "metadata": {},
   "outputs": [
    {
     "name": "stdout",
     "output_type": "stream",
     "text": [
      "{33, 42, 78, 95}\n",
      "{33, 42, 78, 95}\n",
      "{2, 3, 4, 5, 6, 7, 8, 9}\n"
     ]
    }
   ],
   "source": [
    "numeros = {42, 33, 78, 95}\n",
    "numeros2 = set([42, 33, 78, 95])\n",
    "\n",
    "print(numeros)\n",
    "print(numeros2)\n",
    "\n",
    "print(set(range(2, 10)))"
   ]
  },
  {
   "cell_type": "code",
   "execution_count": 41,
   "id": "e95e3273-69d2-45df-a112-5bc169922884",
   "metadata": {},
   "outputs": [
    {
     "name": "stdout",
     "output_type": "stream",
     "text": [
      "['Manaus', 'Brasília', 'Fortaleza', 'Manaus', 'Rio de Janeiro', 'Brasília', 'Fortaleza', 'Natal', 'Belo Horizonte', 'Fortaleza', 'Cuiabá', 'Rio de Janeiro']\n",
      "['Belo Horizonte', 'Brasília', 'Brasília', 'Cuiabá', 'Fortaleza', 'Fortaleza', 'Fortaleza', 'Manaus', 'Manaus', 'Natal', 'Rio de Janeiro', 'Rio de Janeiro']\n",
      "{'Natal', 'Brasília', 'Cuiabá', 'Rio de Janeiro', 'Manaus', 'Belo Horizonte', 'Fortaleza'}\n"
     ]
    }
   ],
   "source": [
    "cidades = ['Manaus', 'Brasília', 'Fortaleza', 'Manaus', 'Rio de Janeiro', 'Brasília', 'Fortaleza', 'Natal', 'Belo Horizonte', 'Fortaleza', 'Cuiabá', 'Rio de Janeiro']\n",
    "print(cidades)\n",
    "cidades.sort()\n",
    "print(cidades)\n",
    "\n",
    "cidades_set = set(cidades)\n",
    "print(cidades_set)"
   ]
  },
  {
   "cell_type": "code",
   "execution_count": 46,
   "id": "63c7d808-1885-450a-87cb-8de16bd9635b",
   "metadata": {},
   "outputs": [
    {
     "name": "stdout",
     "output_type": "stream",
     "text": [
      "{0, 2, 3, 4, 6, 8, 9, 10, 12}\n",
      "{0, 12, 6}\n",
      "{8, 2, 10, 4}\n",
      "{9, 3}\n"
     ]
    }
   ],
   "source": [
    "mult_2 = {0, 2, 4, 6, 8, 10, 12}\n",
    "mult_3 = {0, 3, 6, 9, 12}\n",
    "\n",
    "uniao = mult_2.union(mult_3)\n",
    "\n",
    "print(uniao)\n",
    "\n",
    "intersecao = mult_2.intersection(mult_3)\n",
    "\n",
    "print(intersecao)\n",
    "\n",
    "diferenca_a = mult_2.difference(mult_3)\n",
    "diferenca_b = mult_3.difference(mult_2)\n",
    "\n",
    "print(diferenca_a)\n",
    "print(diferenca_b)"
   ]
  },
  {
   "cell_type": "code",
   "execution_count": 51,
   "id": "a86d7800-8635-4c58-af37-8da4af97707e",
   "metadata": {},
   "outputs": [
    {
     "name": "stdout",
     "output_type": "stream",
     "text": [
      "True\n"
     ]
    }
   ],
   "source": [
    "pares_ate10 = {0, 2, 4, 6, 8, 10}\n",
    "ate10 = {0, 1, 2, 3, 4, 5, 6, 7, 8, 9, 10}\n",
    "\n",
    "print(pares_ate10 <= ate10)"
   ]
  },
  {
   "cell_type": "code",
   "execution_count": 58,
   "id": "b8201b0a-f10f-402d-97bb-9b3c6412ded0",
   "metadata": {},
   "outputs": [
    {
     "name": "stdout",
     "output_type": "stream",
     "text": [
      "{'clio', 'palio', 'prisma', 'gol'}\n",
      "{'palio', 'gol', 'prisma', 'ka', 'clio'}\n",
      "{'palio', 'gol', 'prisma', 'fox', 'ka', 'clio', 'kwid', 'duster'}\n",
      "{'palio', 'prisma', 'fox', 'ka', 'clio', 'kwid', 'duster'}\n",
      "{'fox', 'ka', 'palio', 'clio', 'kwid', 'duster', 'prisma'}\n"
     ]
    }
   ],
   "source": [
    "modelos = {'clio', 'gol', 'palio', 'prisma'} \n",
    "print(modelos)\n",
    "\n",
    "modelos.add('ka')\n",
    "print(modelos)\n",
    "\n",
    "modelos.update({'fox', 'duster', 'kwid'})\n",
    "print(modelos)\n",
    "\n",
    "modelos.remove('gol') #se passar um elemento que não existe ele lança erro\n",
    "modelos.discard('gol')\n",
    "print(modelos)\n",
    "\n",
    "carros = modelos.copy()\n",
    "print(carros)\n",
    "carros.clear()"
   ]
  },
  {
   "cell_type": "code",
   "execution_count": 68,
   "id": "90e57a08-b411-4a94-a975-763a8d73e6c2",
   "metadata": {},
   "outputs": [
    {
     "name": "stdout",
     "output_type": "stream",
     "text": [
      "Quais produtos são oferecidos em ao menos uma loja?\n",
      "{'creme', 'toalha', 'copo', 'sabão', 'escova', 'pano', 'xampu'}\n",
      "Quais produtos são oferecidos em todas as lojas?\n",
      "set()\n",
      "Quais produtos não são encontrados em nenhuma loja?\n",
      "{'detergente'}\n",
      "Quais produtos são exclusivos de cada loja?\n",
      "Produtos exclusivos da loja 1: set()\n",
      "Produtos exclusivos da loja 2: set()\n",
      "Produtos exclusivos da loja 3: {'escova'}\n",
      "Produtos exclusivos da loja 4: {'pano'}\n",
      "Se for possível escolher duas lojas para cobrir um número maior de presentes, qual é o maior número de presentes possíveis para cobrir dessa forma?\n",
      "Número máximo de presentes: 6\n",
      "Melhor combinação de lojas: ({'toalha', 'sabão', 'xampu'}, {'pano', 'creme', 'copo'})\n"
     ]
    }
   ],
   "source": [
    "loja1 = {'toalha', 'sabão', 'xampu'}\n",
    "loja2 = {'xampu', 'creme', 'copo'}\n",
    "loja3 = {'sabão', 'toalha', 'escova'}\n",
    "loja4 = {'copo', 'creme', 'pano'}\n",
    "\n",
    "print(\"Quais produtos são oferecidos em ao menos uma loja?\")\n",
    "existe_pelo_menos_um = loja1.union(loja2, loja3, loja4)\n",
    "print(existe_pelo_menos_um)\n",
    "\n",
    "print(\"Quais produtos são oferecidos em todas as lojas?\")\n",
    "todas_lojas_tem = loja1.intersection(loja2, loja3, loja4)\n",
    "print(todas_lojas_tem)\n",
    "\n",
    "# Vamos supor que o conjunto universal de presentes é conhecido\n",
    "todos_presentes = {'toalha', 'sabão', 'xampu', 'creme', 'copo', 'escova', 'pano', 'detergente'}\n",
    "print(\"Quais produtos não são encontrados em nenhuma loja?\")\n",
    "nenhuma_loja_tem = todos_presentes.difference(existe_pelo_menos_um)\n",
    "print(nenhuma_loja_tem)\n",
    "\n",
    "exclusivos_loja1 = loja1.difference(loja2, loja3, loja4)\n",
    "exclusivos_loja2 = loja2.difference(loja1, loja3, loja4)\n",
    "exclusivos_loja3 = loja3.difference(loja1, loja2, loja4)\n",
    "exclusivos_loja4 = loja4.difference(loja1, loja2, loja3)\n",
    "print(\"Quais produtos são exclusivos de cada loja?\")\n",
    "print(\"Produtos exclusivos da loja 1:\", exclusivos_loja1)\n",
    "print(\"Produtos exclusivos da loja 2:\", exclusivos_loja2)\n",
    "print(\"Produtos exclusivos da loja 3:\", exclusivos_loja3)\n",
    "print(\"Produtos exclusivos da loja 4:\", exclusivos_loja4)\n",
    "\n",
    "print(\"Se for possível escolher duas lojas para cobrir um número maior de presentes, qual é o maior número de presentes possíveis para cobrir dessa forma?\")\n",
    "combinacoes = [\n",
    "    (loja1, loja2),\n",
    "    (loja1, loja3),\n",
    "    (loja1, loja4),\n",
    "    (loja2, loja3),\n",
    "    (loja2, loja4),\n",
    "    (loja3, loja4)\n",
    "]\n",
    "\n",
    "max_presentes = 0\n",
    "melhor_combinacao = None\n",
    "\n",
    "for l1, l2 in combinacoes:\n",
    "    uniao = l1.union(l2)\n",
    "    num_presentes = len(uniao)\n",
    "    if num_presentes > max_presentes:\n",
    "        max_presentes = num_presentes\n",
    "        melhor_combinacao = (l1, l2)\n",
    "\n",
    "print(\"Número máximo de presentes:\", max_presentes)\n",
    "print(\"Melhor combinação de lojas:\", melhor_combinacao)\n"
   ]
  },
  {
   "cell_type": "code",
   "execution_count": 69,
   "id": "93e185bc-9059-41ba-bfcc-a33e001bcfaa",
   "metadata": {},
   "outputs": [
    {
     "name": "stdout",
     "output_type": "stream",
     "text": [
      "['ararajuba', 'camaleão', 'jaguatirica', 'lobo guará', 'macaco prego']\n"
     ]
    }
   ],
   "source": [
    "animais = {'onça', 'jaguatirica', 'lobo guará'}\n",
    "animais.add('ararajuba')\n",
    "animais.discard('tatu')\n",
    "animais.update({'onça', 'macaco prego', 'camaleão'})\n",
    "animais.remove('onça')\n",
    "print(sorted(animais))"
   ]
  },
  {
   "cell_type": "code",
   "execution_count": null,
   "id": "f26ab654-99f5-4454-88e1-5d55b7a098b7",
   "metadata": {},
   "outputs": [],
   "source": []
  }
 ],
 "metadata": {
  "kernelspec": {
   "display_name": "Python 3 (ipykernel)",
   "language": "python",
   "name": "python3"
  },
  "language_info": {
   "codemirror_mode": {
    "name": "ipython",
    "version": 3
   },
   "file_extension": ".py",
   "mimetype": "text/x-python",
   "name": "python",
   "nbconvert_exporter": "python",
   "pygments_lexer": "ipython3",
   "version": "3.12.4"
  }
 },
 "nbformat": 4,
 "nbformat_minor": 5
}
