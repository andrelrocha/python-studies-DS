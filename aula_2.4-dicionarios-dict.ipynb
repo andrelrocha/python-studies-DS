{
 "cells": [
  {
   "cell_type": "code",
   "execution_count": 10,
   "id": "21169bbd-b07f-41da-bd39-26c6da6ef385",
   "metadata": {},
   "outputs": [
    {
     "name": "stdout",
     "output_type": "stream",
     "text": [
      "O Ceará possui 9132078 habitantes.\n",
      "O Ceará possui 9132078 habitantes.\n",
      "O Bahia possui 14873064 habitantes.\n",
      "O Alagoas possui 3337357 habitantes.\n",
      "O Maranhão possui 7075181 habitantes.\n",
      "O Piauí possui None habitantes.\n"
     ]
    },
    {
     "name": "stdin",
     "output_type": "stream",
     "text": [
      "De qual estado você quer saber a população:  Bahia\n"
     ]
    },
    {
     "name": "stdout",
     "output_type": "stream",
     "text": [
      "Bahia possui 14873064 habitantes.\n"
     ]
    }
   ],
   "source": [
    "populacao = {'Ceará': 9132078, 'Bahia': 14873064, 'Alagoas': 3337357}\n",
    "\n",
    "print('O Ceará possui {} habitantes.'.format(populacao['Ceará']))\n",
    "\n",
    "populacao['Maranhão'] = 7075181\n",
    "\n",
    "for chave, valor in populacao.items():\n",
    "    print('O {} possui {} habitantes.'.format(chave, valor))\n",
    "\n",
    "print('O Piauí possui {} habitantes.'.format(populacao.get('Piauí')))\n",
    "\n",
    "estado = input('De qual estado você quer saber a população: ')\n",
    "pop = populacao.get(estado)\n",
    "if pop == None:\n",
    "    print('Infelizmente não sabemos informar a população deste estado')\n",
    "else:\n",
    "    print('{} possui {} habitantes.'.format(estado, pop))\n"
   ]
  },
  {
   "cell_type": "code",
   "execution_count": 17,
   "id": "156b0c87-2115-439d-bf49-0e2afa20c397",
   "metadata": {},
   "outputs": [
    {
     "name": "stdout",
     "output_type": "stream",
     "text": [
      "dict_values([9132078, 14873064, 3337357])\n",
      "Alagoas possui 3337357 habitantes.\n",
      "Bahia possui 14873064 habitantes.\n",
      "Ceará possui 9132078 habitantes.\n",
      "Alagoas possui 3337357 habitantes.\n",
      "Ceará possui 9132078 habitantes.\n",
      "Bahia possui 14873064 habitantes.\n"
     ]
    }
   ],
   "source": [
    "populacao = {'Ceará': 9132078, 'Bahia': 14873064, 'Alagoas': 3337357}\n",
    "print(populacao.values())\n",
    "\n",
    "for estado in sorted(populacao):\n",
    "    print('{} possui {} habitantes.'.format(estado, populacao[estado]))\n",
    "\n",
    "for estado in sorted(populacao, key = lambda chave : populacao.get(chave)):\n",
    "    print('{} possui {} habitantes.'.format(estado, populacao[estado]))"
   ]
  },
  {
   "cell_type": "code",
   "execution_count": 21,
   "id": "8aa01d52-c928-4cae-bb4c-4fbc3e171265",
   "metadata": {},
   "outputs": [
    {
     "name": "stdin",
     "output_type": "stream",
     "text": [
      "Digite uma string qualquer:  banana\n"
     ]
    },
    {
     "name": "stdout",
     "output_type": "stream",
     "text": [
      "A mensagem digitada possui: 6 caracteres, sendo 3 caracteres únicos.\n",
      "Cada um destes caracteres únicos ocorreu: \n",
      "\ta ocorreu 3 vezes.\n",
      "\tb ocorreu 1 vezes.\n",
      "\tn ocorreu 2 vezes.\n"
     ]
    }
   ],
   "source": [
    "mensagem = input('Digite uma string qualquer: ') # leitura da string\n",
    "ocorrencias = {} # criação de um dicionário vazio\n",
    "for letra in mensagem:\n",
    "    ocorrencias[letra] = ocorrencias.get(letra, 0) + 1 # método get() com dois parâmetros\n",
    "\n",
    "print('A mensagem digitada possui: {} caracteres, sendo {} caracteres únicos.'.format(len(mensagem), len(ocorrencias)))\n",
    "print('Cada um destes caracteres únicos ocorreu: ')\n",
    "for letra in sorted(ocorrencias):\n",
    "    print('\\t{} ocorreu {} vezes.'.format(letra, ocorrencias[letra]))"
   ]
  },
  {
   "cell_type": "code",
   "execution_count": 24,
   "id": "e334f56d-433f-476c-8abc-9cc94e71cb4f",
   "metadata": {},
   "outputs": [
    {
     "name": "stdout",
     "output_type": "stream",
     "text": [
      "--- Adição de mais um contato --- \n"
     ]
    },
    {
     "name": "stdin",
     "output_type": "stream",
     "text": [
      "Digite o nome do contato:  andre\n",
      "Digite o telefone do contato:  999\n",
      "Digite o email do contato:  andre@\n"
     ]
    },
    {
     "name": "stdout",
     "output_type": "stream",
     "text": [
      "--- Contatos com a letra A ---\n",
      "Nome: andre\tTelefone: 999\tEmail: andre@\n"
     ]
    }
   ],
   "source": [
    "class Contato:\n",
    "    nome = ''\n",
    "    telefone = ''\n",
    "    email = ''\n",
    "\n",
    "contatos = {}\n",
    "\n",
    "ctt = Contato()  # instanciando novo objeto da classe Contato\n",
    "\n",
    "print('--- Adição de mais um contato --- ')  # fazendo leitura dos dados nas 3 linhas a seguir\n",
    "\n",
    "ctt.nome = input('Digite o nome do contato: ')\n",
    "ctt.telefone = input('Digite o telefone do contato: ')\n",
    "ctt.email = input('Digite o email do contato: ')\n",
    "\n",
    "inicial = ctt.nome[0].upper()  # assegurando que a inicial do nome do contato seja maiúscula\n",
    "if inicial not in contatos:  # se nenhum contato com essa inicial foi incluído até o momento\n",
    "    contatos[inicial] = []  # então inicie a lista de contatos com esta inicial como uma lista vazia\n",
    "contatos[inicial].append(ctt)  # adicione o novo contato na lista correta\n",
    "\n",
    "\n",
    "for inicial in sorted(contatos): # laço externo itera nas iniciais ordenadas\n",
    "   print('--- Contatos com a letra {} ---'.format(inicial))\n",
    "   for ctt in sorted(contatos[inicial], key=lambda c : c.nome): # laço interno itera nos contatos ordenados\n",
    "       print('Nome: {}\\tTelefone: {}\\tEmail: {}'.format(ctt.nome, ctt.telefone, ctt.email))\n"
   ]
  },
  {
   "cell_type": "code",
   "execution_count": 29,
   "id": "49cb9f66-86a4-4f17-b673-d7fa03fef507",
   "metadata": {},
   "outputs": [
    {
     "name": "stdout",
     "output_type": "stream",
     "text": [
      "--pai--\n",
      "Nome: João, Idade: 50\n",
      "--filho--\n",
      "Nome: Lucas, Idade: 10\n",
      "--cacula--\n",
      "Nome: Roberto, Idade: 8\n"
     ]
    }
   ],
   "source": [
    "familia = {}\n",
    "\n",
    "familia['pai'] = {'nome': 'João', 'idade': 50}\n",
    "familia['filho'] = {'nome': 'Lucas', 'idade': 10}\n",
    "familia['cacula'] = {'nome': 'Roberto', 'idade': 8}\n",
    "\n",
    "for membro in familia:\n",
    "    nome = familia[membro]['nome']\n",
    "    idade = familia[membro]['idade']\n",
    "    print(\"--{}--\".format(membro))\n",
    "    print(\"Nome: {}, Idade: {}\".format(nome, idade))"
   ]
  },
  {
   "cell_type": "code",
   "execution_count": null,
   "id": "0f1139e1-8ddc-47bf-93f9-594704925f56",
   "metadata": {},
   "outputs": [],
   "source": [
    "class Livro: \n",
    "    titulo: ''\n",
    "    genero: ''\n",
    "    subgenero: ''\n",
    "    valor: ''\n",
    "    quantidade: 0\n",
    "\n",
    "livro = Livro()\n",
    "livros = {}\n",
    "\n",
    "quantidade_livros = input(\"Quantos livros voce quer adicionar?\")\n",
    "\n",
    "for i in range(quantidade_livros):\n",
    "    titulo = input(\"Qual o título do livro? \")\n",
    "    genero = input(\"Qual o gênero do livro? \")\n",
    "    subgenero = input(\"Qual o subgênero do livro? \")\n",
    "    quantidade = int(input(\"Quantas cópias estão disponíveis? \"))\n",
    "    valor = float(input(\"Qual o valor do livro em reais? \"))\n",
    "    \n",
    "    livro.titulo = titulo\n",
    "    livro.genero = genero\n",
    "    livro.subgenero = subgenero\n",
    "    livro.quantidade = quantidade\n",
    "    livro.valor = valor\n",
    "\n",
    "    \n",
    "    if genero not in livros:\n",
    "        livros[genero] = {} #aqui criamos uma nova célula, ou seja, o genero novo recebendo o nome e abrindo o par de chave\n",
    "\n",
    "    if subgenero not in livros[genero]:\n",
    "        livros[genero][subgenero] = []\n",
    "\n",
    "    livros[genero][subgenero].append(livro)\n",
    "    \n",
    "    print(\"\\nLivros disponíveis em loja:\")\n",
    "    for genero, subgeneros in sorted(livros.items()):\n",
    "        print(f\"--- {genero} ---\")\n",
    "        for subgenero, livros_lista in sorted(subgeneros.items()):\n",
    "            print(f\"------ {subgenero} ------\")\n",
    "            for livro in sorted(livros_lista, key=lambda l: l.quantidade):\n",
    "                print(f\"{livro.titulo} - {livro.quantidade} cópias - R${livro.valor:.2f}\")\n",
    "    "
   ]
  }
 ],
 "metadata": {
  "kernelspec": {
   "display_name": "Python 3 (ipykernel)",
   "language": "python",
   "name": "python3"
  },
  "language_info": {
   "codemirror_mode": {
    "name": "ipython",
    "version": 3
   },
   "file_extension": ".py",
   "mimetype": "text/x-python",
   "name": "python",
   "nbconvert_exporter": "python",
   "pygments_lexer": "ipython3",
   "version": "3.12.4"
  }
 },
 "nbformat": 4,
 "nbformat_minor": 5
}
