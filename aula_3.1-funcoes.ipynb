{
 "cells": [
  {
   "cell_type": "code",
   "execution_count": 3,
   "id": "4c053139-3820-4af1-ac6b-061b1dcff243",
   "metadata": {},
   "outputs": [
    {
     "name": "stdout",
     "output_type": "stream",
     "text": [
      "20\n",
      "5\n",
      "20\n",
      "45\n"
     ]
    }
   ],
   "source": [
    "def f(x):\n",
    "  return 5*x**2\n",
    "\n",
    "print(f(2))\n",
    "\n",
    "for i in range(1,4):\n",
    "    print(f(i))"
   ]
  },
  {
   "cell_type": "code",
   "execution_count": 10,
   "id": "1484f96b-951a-4e71-a9db-c8d8d84a7337",
   "metadata": {},
   "outputs": [
    {
     "name": "stdout",
     "output_type": "stream",
     "text": [
      "0.5\n",
      "-3.0\n",
      "-2.0\n",
      "4.0\n",
      "-4.0\n"
     ]
    },
    {
     "name": "stdin",
     "output_type": "stream",
     "text": [
      "a =  1\n",
      "b =  4\n",
      "c =  4\n"
     ]
    },
    {
     "name": "stdout",
     "output_type": "stream",
     "text": [
      "1.0x² + 4.0x + c = 0:\n",
      "Raízes reais: {-2.0}\n"
     ]
    }
   ],
   "source": [
    "import math\n",
    "\n",
    "def pitagoras(a, b, c):\n",
    "    delta = b**2 - (4*a*c)\n",
    "\n",
    "    if delta < 0:\n",
    "        return []        \n",
    "\n",
    "    raiz1 = ( -b + math.sqrt(delta) ) / (2*a)\n",
    "    raiz2 = ( -b - math.sqrt(delta) ) / (2*a)\n",
    "\n",
    "    raizes = []\n",
    "    \n",
    "    raizes.append(raiz1)\n",
    "    raizes.append(raiz2)\n",
    "\n",
    "    raizes_set = set(raizes)\n",
    "    return raizes_set\n",
    "\n",
    "raizes = pitagoras(2,5,-3)\n",
    "for raiz in raizes:\n",
    "    print(raiz)\n",
    "\n",
    "raizes = pitagoras(1,4,4)\n",
    "for raiz in raizes:\n",
    "    print(raiz)\n",
    "\n",
    "raizes = pitagoras(1,0, -16)\n",
    "for raiz in raizes:\n",
    "    print(raiz)\n",
    "\n",
    "a = float(input('a = '))\n",
    "b = float(input('b = '))\n",
    "c = float(input('c = '))\n",
    "print('{}x² + {}x + c = 0:'.format(a, b, c))\n",
    "print('Raízes reais:', pitagoras(a, b, c))"
   ]
  },
  {
   "cell_type": "code",
   "execution_count": null,
   "id": "7f430639-b03c-4ca2-afc8-f5e6f3eeb872",
   "metadata": {},
   "outputs": [],
   "source": [
    "pi = 3.141592\n",
    "def circunferencia(raio):\n",
    "   return 2 * pi * raio\n",
    "\n",
    "def area(raio):\n",
    "   return pi * raio**2"
   ]
  },
  {
   "cell_type": "code",
   "execution_count": 17,
   "id": "7d61cfce-05b1-48a5-a92a-5551e8395a85",
   "metadata": {},
   "outputs": [
    {
     "name": "stdout",
     "output_type": "stream",
     "text": [
      "09/11/1999\n"
     ]
    }
   ],
   "source": [
    "def formata_dia(dia):\n",
    "    if (dia >= 10):\n",
    "        return dia\n",
    "    else:\n",
    "        return '0{}'.format(dia)\n",
    "\n",
    "def formata_data(ano, mes, dia):\n",
    "    dia_formatado = formata_dia(dia)\n",
    "    return \"{}/{}/{}\".format(dia_formatado, mes, ano)\n",
    "\n",
    "print(formata_data(1999,11,9))\n",
    "    "
   ]
  },
  {
   "cell_type": "code",
   "execution_count": 19,
   "id": "02f13c5d-1f9c-4ae7-be3d-746cabcbdb2f",
   "metadata": {},
   "outputs": [
    {
     "name": "stdin",
     "output_type": "stream",
     "text": [
      "Qual é o nome do aluno(a)?  andre\n",
      "Quantas notas?  2\n",
      "1ª nota:  10\n",
      "2ª nota:  8\n"
     ]
    },
    {
     "name": "stdout",
     "output_type": "stream",
     "text": [
      "A nota de andre é 9.0\n"
     ]
    }
   ],
   "source": [
    "def media(notas):\n",
    "    return sum(notas) / len(notas)\n",
    "\n",
    "def ler_notas(num_notas):\n",
    "    notas = []\n",
    "    for i in range(num_notas):\n",
    "        nota = float(input(str(i + 1) + 'ª nota: '))\n",
    "        notas.append(nota)\n",
    "    return notas\n",
    "\n",
    "nome = input('Qual é o nome do aluno(a)? ')\n",
    "num_notas = int(input('Quantas notas? '))\n",
    "\n",
    "notas = ler_notas(num_notas)\n",
    "nota_final = media(notas)\n",
    "\n",
    "print('A nota de', nome, 'é', nota_final)\n"
   ]
  },
  {
   "cell_type": "code",
   "execution_count": 22,
   "id": "6c758533-5b6e-422e-8267-dcdc46dad8ec",
   "metadata": {},
   "outputs": [
    {
     "name": "stdout",
     "output_type": "stream",
     "text": [
      "aveia\n",
      "Ordenado por nome: [{'nome': 'aveia', 'quant': 6, 'preço': 2.5}, {'nome': 'café', 'quant': 5, 'preço': 8.0}, {'nome': 'detergente', 'quant': 3, 'preço': 1.5}, {'nome': 'manteiga', 'quant': 2, 'preço': 15.0}]\n"
     ]
    }
   ],
   "source": [
    "compras = [\n",
    "    {\"nome\": \"aveia\", \"quant\": 6, \"preço\": 2.5},\n",
    "    {\"nome\": \"manteiga\", \"quant\": 2, \"preço\": 15.0},\n",
    "    {\"nome\": \"detergente\", \"quant\": 3, \"preço\": 1.5},\n",
    "    {\"nome\": \"café\", \"quant\": 5, \"preço\": 8.0},\n",
    "]\n",
    "\n",
    "primeiro_item_nome = compras[0][\"nome\"]\n",
    "print(primeiro_item_nome) \n",
    "\n",
    "compras_ordenadas_nome = sorted(compras, key=lambda c: c[\"nome\"])\n",
    "print(\"Ordenado por nome:\", compras_ordenadas_nome)"
   ]
  },
  {
   "cell_type": "code",
   "execution_count": 33,
   "id": "9dd0f687-cac6-4d77-b0ec-d9b4cd263b5b",
   "metadata": {},
   "outputs": [
    {
     "name": "stdout",
     "output_type": "stream",
     "text": [
      "29/2/2020 - 14:15: Prestar concurso\n",
      "15/3/2020 - 17:50: Buscar bolo pro aniversário da vovó\n",
      "17/3/2020 - 13:20: Consulta de revisão com dentista\n"
     ]
    }
   ],
   "source": [
    "def formata_dia(dia):\n",
    "    if (dia >= 10):\n",
    "        return '{}'.format(dia)\n",
    "    else:\n",
    "        return '0{}'.format(dia)\n",
    "\n",
    "def formatar_data(data):\n",
    "    ano, mes, dia = data\n",
    "    meses = [\"jan\", \"fev\", \"mar\", \"abr\", \"mai\", \"jun\",\n",
    "             \"jul\", \"ago\", \"set\", \"out\", \"nov\", \"dez\"]\n",
    "\n",
    "    dia_formatado = formata_dia(dia)\n",
    "    mes_formatado = meses[mes-1]\n",
    "    return \"{}/{}/{}\".format(dia_formatado, mes, ano)\n",
    "\n",
    "def formatar_hora(hora):\n",
    "    hora, minuto = hora\n",
    "    return \"{}:{}\".format(hora, minuto)\n",
    "\n",
    "def imprimir_eventos(eventos, de_data, ate_data):\n",
    "    for data, hora, descricao in eventos:\n",
    "        if de_data <= data <= ate_data:\n",
    "            print(f\"{formatar_data(data)} - {formatar_hora(hora)}: {descricao}\")\n",
    "\n",
    "agenda = [\n",
    "      ((2020, 1, 13), (11, 50), 'Renovar identidade'),\n",
    "      ((2020, 1, 15), (16, 30), 'Fazer compras'),\n",
    "      ((2020, 1, 25), (8, 45), 'Autenticar documentos'),\n",
    "      ((2020, 2, 29), (14, 15), 'Prestar concurso'),\n",
    "      ((2020, 3, 15), (17, 50), 'Buscar bolo pro aniversário da vovó'),\n",
    "      ((2020, 3, 17), (13, 20), 'Consulta de revisão com dentista'),\n",
    "]\n",
    "\n",
    "imprimir_eventos(agenda, (2020, 2, 1), (9999, 12, 31))\n",
    "    "
   ]
  },
  {
   "cell_type": "code",
   "execution_count": null,
   "id": "aedf1fb7-aff8-4b80-ae81-fac787e36a7a",
   "metadata": {},
   "outputs": [],
   "source": []
  }
 ],
 "metadata": {
  "kernelspec": {
   "display_name": "Python 3 (ipykernel)",
   "language": "python",
   "name": "python3"
  },
  "language_info": {
   "codemirror_mode": {
    "name": "ipython",
    "version": 3
   },
   "file_extension": ".py",
   "mimetype": "text/x-python",
   "name": "python",
   "nbconvert_exporter": "python",
   "pygments_lexer": "ipython3",
   "version": "3.12.4"
  }
 },
 "nbformat": 4,
 "nbformat_minor": 5
}
