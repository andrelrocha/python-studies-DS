{
 "cells": [
  {
   "cell_type": "code",
   "execution_count": 7,
   "id": "d61fd8b5-b1fa-4dc9-9117-6b5dc2592ead",
   "metadata": {},
   "outputs": [
    {
     "name": "stdout",
     "output_type": "stream",
     "text": [
      "Data atual: 2024-08-22\n",
      "Idade: 24 anos\n"
     ]
    }
   ],
   "source": [
    "from datetime import date\n",
    "\n",
    "nascimento = date(1999, 11, 9)\n",
    "\n",
    "def calcular_idade(data_nascimento):\n",
    "    data_atual = date.today()\n",
    "    idade = data_atual.year - data_nascimento.year\n",
    "    if (data_atual.month, data_atual.day) < (data_nascimento.month, data_nascimento.day):\n",
    "        idade -= 1\n",
    "    return idade\n",
    "\n",
    "idade_em_anos = calcular_idade(nascimento, hoje)\n",
    "print(f\"Idade: {idade_em_anos} anos\")\n"
   ]
  },
  {
   "cell_type": "code",
   "execution_count": null,
   "id": "c9208f75-3a17-4403-9f47-8e51479c4616",
   "metadata": {},
   "outputs": [],
   "source": []
  }
 ],
 "metadata": {
  "kernelspec": {
   "display_name": "Python 3 (ipykernel)",
   "language": "python",
   "name": "python3"
  },
  "language_info": {
   "codemirror_mode": {
    "name": "ipython",
    "version": 3
   },
   "file_extension": ".py",
   "mimetype": "text/x-python",
   "name": "python",
   "nbconvert_exporter": "python",
   "pygments_lexer": "ipython3",
   "version": "3.12.4"
  }
 },
 "nbformat": 4,
 "nbformat_minor": 5
}
