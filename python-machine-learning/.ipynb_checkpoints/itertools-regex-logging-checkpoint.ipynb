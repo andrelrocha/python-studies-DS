{
 "cells": [
  {
   "cell_type": "code",
   "execution_count": 1,
   "id": "10b7cfb4-6664-4690-bf5e-406bce1770a8",
   "metadata": {},
   "outputs": [
    {
     "name": "stdout",
     "output_type": "stream",
     "text": [
      "count(0)\n",
      "0\n",
      "2\n"
     ]
    }
   ],
   "source": [
    "import itertools\n",
    "contador = itertools.count()\n",
    "\n",
    "print(contador) # count(0)\n",
    "print(next(contador))\n",
    "next(contador)\n",
    "print(next(contador))"
   ]
  },
  {
   "cell_type": "code",
   "execution_count": 2,
   "id": "7c333099-bf5d-4b07-927f-ccf5ee1c513f",
   "metadata": {},
   "outputs": [
    {
     "name": "stdout",
     "output_type": "stream",
     "text": [
      "<itertools.combinations object at 0x000002CF9327F470>\n",
      "[('A', 'B'), ('A', 'C'), ('B', 'C')]\n",
      "[('A', 'A'), ('A', 'B'), ('A', 'C'), ('A', 'B'), ('A', 'C'), ('B', 'C')]\n",
      "[('A', 'B', 'C'), ('A', 'B', 'D'), ('A', 'C', 'D'), ('B', 'C', 'D')]\n"
     ]
    }
   ],
   "source": [
    "import itertools\n",
    "\n",
    "#COMBINAÇÃO\n",
    "\n",
    "print(itertools.combinations(\"ABC\",2))\n",
    "\n",
    "print(list(itertools.combinations(\"ABC\",2)))\n",
    "\n",
    "print(list(itertools.combinations(\"AABC\",2)))\n",
    "\n",
    "print(list(itertools.combinations(\"ABCD\",3)))"
   ]
  },
  {
   "cell_type": "code",
   "execution_count": 3,
   "id": "90d87a36-6da4-4de1-b806-d30270265777",
   "metadata": {},
   "outputs": [
    {
     "name": "stdout",
     "output_type": "stream",
     "text": [
      "[(1, 1), (1, 1)]\n",
      "[(1, 2), (2, 1)]\n",
      "[(1, 2, 3), (1, 3, 2), (2, 1, 3), (2, 3, 1), (3, 1, 2), (3, 2, 1)]\n",
      "[(1, 2), (1, 3), (2, 1), (2, 3), (3, 1), (3, 2)]\n"
     ]
    }
   ],
   "source": [
    "import itertools\n",
    "\n",
    "#PERMUTAÇÃO\n",
    "\n",
    "print(list(itertools.permutations([1,1]))) \n",
    "\n",
    "print(list(itertools.permutations([1, 2])))\n",
    "\n",
    "print(list(itertools.permutations([1, 2, 3])))\n",
    "\n",
    "print(list(itertools.permutations([1, 2, 3],r=2)))"
   ]
  },
  {
   "cell_type": "code",
   "execution_count": 6,
   "id": "fbdbc672-b60a-421d-99a0-5617d304fc68",
   "metadata": {},
   "outputs": [
    {
     "name": "stdout",
     "output_type": "stream",
     "text": [
      "[(1, 1), (1, 2), (2, 1), (2, 2)]\n",
      "[(1, 1), (1, 2), (2, 1), (2, 2)]\n",
      "[('Python', 'Academy'), ('Python', 'Rocks')]\n",
      "[(1, 3, 5), (1, 3, 6), (1, 4, 5), (1, 4, 6), (2, 3, 5), (2, 3, 6), (2, 4, 5), (2, 4, 6)]\n",
      "[('Blusa Vermelha', 'Calça Jeans'), ('Blusa Vermelha', 'Calça Preta'), ('Blusa Vermelha', 'Calça Bege'), ('Blusa Azul', 'Calça Jeans'), ('Blusa Azul', 'Calça Preta'), ('Blusa Azul', 'Calça Bege'), ('Blusa Branca', 'Calça Jeans'), ('Blusa Branca', 'Calça Preta'), ('Blusa Branca', 'Calça Bege'), ('Blusa Preta', 'Calça Jeans'), ('Blusa Preta', 'Calça Preta'), ('Blusa Preta', 'Calça Bege')]\n"
     ]
    }
   ],
   "source": [
    "import itertools\n",
    "\n",
    "#PRODUTO CARTESIANO - O produto cartesiano de duas ou mais sequências é a combinação de todos os elementos das sequências de entrada, \n",
    "#gerando todas as possíveis tuplas que podem ser formadas a partir desses elementos.\n",
    "\n",
    "print(list(itertools.product([1, 2], repeat=2)))\n",
    "\n",
    "print(list(itertools.product([1, 2], [1, 2]))) \n",
    "print(list(itertools.product(['Python'], ['Academy', 'Rocks'])))\n",
    "\n",
    "print(list(itertools.product([1, 2], [3, 4], [5, 6])))\n",
    "\n",
    "\n",
    "blusas = ['Blusa Vermelha', 'Blusa Azul', 'Blusa Branca', 'Blusa Preta']\n",
    "calcas = ['Calça Jeans', 'Calça Preta', 'Calça Bege']\n",
    "print(list(itertools.product(blusas, calcas)))"
   ]
  },
  {
   "cell_type": "code",
   "execution_count": 7,
   "id": "c488e2f4-6039-4ca0-8838-2fa3d513b5f7",
   "metadata": {},
   "outputs": [
    {
     "name": "stdout",
     "output_type": "stream",
     "text": [
      "<re.Match object; span=(4, 8), match='rino'>\n",
      "<re.Match object; span=(4, 6), match='ri'>\n",
      "rino\n",
      "None\n"
     ]
    }
   ],
   "source": [
    "# [a-zA-Z0-9_.-]+@[a-zA-Z0-9-]+\\.[a-zA-Z0-9-.]+ - conferir se segue o formato de um email\n",
    "\n",
    "import re\n",
    "\n",
    "palavra = r'otorrinolaringologista 816'\n",
    "\n",
    "print(re.search(r'rino', palavra)) \n",
    "\n",
    "print(re.search(r'ri', palavra))\n",
    "\n",
    "print(re.search(r'rino', palavra).group(0))\n",
    "\n",
    "print(re.search(r'100', palavra))"
   ]
  },
  {
   "cell_type": "raw",
   "id": "0cdd5b13-a090-4101-91a8-807c746c0fcd",
   "metadata": {},
   "source": [
    ".\tQualquer caractere exceto nova linha\r\n",
    "\\d\tÉ um dígito (0-9)\r\n",
    "\\D\tNão é um dígito (0-9)\r\n",
    "\\w\tCaractere de palavra (a-z, A-Z, 0-9, _)\r\n",
    "\\W\tNão é um caractere verbal\r\n",
    "\\s\tEspaço em branco (espaço, tabulação, nova linha)\r\n",
    "\\S\tNão é espaço em branco (espaço, tabulação, nova linha)\r\n",
    "\\b\tLimite de palavras\r\n",
    "\\B\tNão é um limite de palavra\r\n",
    "^\tComeço de uma string\r\n",
    "$\tFim de uma string\r\n",
    "[]\tCorresponde aos caracteres entre colchetes\r\n",
    "[^ ]\tCorresponde a caracteres, MENOS o que está entre colchetes\r\n",
    "|\n",
    "\n",
    "\n",
    "Quantificadores\n",
    "*\t0 ou mais\n",
    "+\t1 ou mais\n",
    "?\t0 ou um\n",
    "{3}\tNúmero exato\n",
    "{3,4}\tFaixa de números (mínimo, máximo)\tOu\r\n",
    "( )\tGrupo"
   ]
  },
  {
   "cell_type": "code",
   "execution_count": 14,
   "id": "a98557d9-6c22-40d3-be1a-960419c2a491",
   "metadata": {},
   "outputs": [
    {
     "name": "stdout",
     "output_type": "stream",
     "text": [
      "<re.Match object; span=(23, 25), match='46'>\n",
      "['46', '93', '20', '63', '92', '89', '42', '01', '74', '11', '61', '47', '40', '48', '95']\n",
      "['(46)', '(89)', '(61)']\n",
      "['(46)', '(89)', '(61)']\n",
      "['(46) 93201-6392', '(89) 42010-7411', '(61) 47405-4895']\n"
     ]
    }
   ],
   "source": [
    "import re\n",
    "\n",
    "palavra = r\"Laura Maria da Silva\\n(46) 93201-6392\\n(89) 42010-7411\\n(61) 47405-4895\\nRua José Geraldo\\nlauramaria@hotmail.com\\nLe@d Dell Technologies\"\n",
    "\n",
    "print(re.search(r'[0-9][0-9]', palavra)) \n",
    "\n",
    "print(re.findall(r'[0-9][0-9]', palavra))\n",
    "\n",
    "print(re.findall(r'\\W[0-9][0-9]\\W', palavra))\n",
    "\n",
    "print(re.findall(r'\\W\\d{2}\\W', palavra))\n",
    "                \n",
    "print(re.findall(r'\\W\\d{2}\\W\\s\\d{5}\\W\\d{4}', palavra))"
   ]
  },
  {
   "cell_type": "code",
   "execution_count": 16,
   "id": "42cddf35-3891-4375-8ac3-0e200d8fd559",
   "metadata": {},
   "outputs": [
    {
     "name": "stdout",
     "output_type": "stream",
     "text": [
      "['contato@dellead.com', 'franciscojose@yahoo.com.br', 'ana.julia@universidade.edu', 'francisca-321-aline@meu-trabalho.net']\n"
     ]
    }
   ],
   "source": [
    "import re\n",
    "\n",
    "palavra = r'contato@dellead.com, franciscojose@yahoo.com.br, ana.julia@universidade.edu, francisca-321-aline@meu-trabalho.net, Le@d Dell Technologies'\n",
    "\n",
    "print(re.findall(r'[a-zA-Z0-9_.-]+@[a-zA-Z0-9-]+\\.[a-zA-Z0-9-.]+', palavra))"
   ]
  },
  {
   "cell_type": "code",
   "execution_count": 31,
   "id": "8f66e3e4-e54a-4638-9b5f-6046e3369cd0",
   "metadata": {},
   "outputs": [],
   "source": [
    "import logging\n",
    "\n",
    "#Criação e configuração do objeto logger\n",
    "FORMATACAO_MSG = \"%(asctime)s | %(levelname)s -> %(message)s\"\n",
    "\n",
    "logging.basicConfig(filename = 'logs.log', level = logging.DEBUG, format = FORMATACAO_MSG, filemode = 'w', encoding='utf-8')\n",
    "logger = logging.getLogger()\n",
    "\n",
    "#Testando o logger\n",
    "logger.debug('depuração')\n",
    "logger.info('informação')\n",
    "logger.warning('aviso')\n",
    "logger.error('erro')\n",
    "logger.critical('critico')"
   ]
  },
  {
   "cell_type": "code",
   "execution_count": 34,
   "id": "bda146c0-f893-42fc-8f80-38d30b3f6cdb",
   "metadata": {},
   "outputs": [
    {
     "name": "stdout",
     "output_type": "stream",
     "text": [
      "Vamos dividir dois números!\n"
     ]
    },
    {
     "name": "stdin",
     "output_type": "stream",
     "text": [
      "Digite o primeiro número: 10\n",
      "Digite o segundo número: 20\n"
     ]
    },
    {
     "name": "stdout",
     "output_type": "stream",
     "text": [
      "O resultado é 0.5\n",
      "----------------------\n",
      "Vamos dividir dois números!\n"
     ]
    },
    {
     "name": "stdin",
     "output_type": "stream",
     "text": [
      "Digite o primeiro número: 20\n",
      "Digite o segundo número: 0\n"
     ]
    },
    {
     "name": "stdout",
     "output_type": "stream",
     "text": [
      "Essa operação é impossível\n",
      "----------------------\n",
      "Vamos dividir dois números!\n"
     ]
    },
    {
     "name": "stdin",
     "output_type": "stream",
     "text": [
      "Digite o primeiro número: 50\n",
      "Digite o segundo número: 10\n"
     ]
    },
    {
     "name": "stdout",
     "output_type": "stream",
     "text": [
      "O resultado é 5.0\n",
      "----------------------\n"
     ]
    }
   ],
   "source": [
    "import logging\n",
    "\n",
    "#Criação e configuração do objeto logger\n",
    "FORMATACAO_MSG = \"%(asctime)s | %(levelname)s -> %(message)s\"\n",
    "\n",
    "logging.basicConfig(filename = 'logteste.log', level = logging.DEBUG, format = FORMATACAO_MSG, filemode = 'w', encoding='utf-8')\n",
    "logger = logging.getLogger()\n",
    "\n",
    "logger.info('O programa foi iniciado')\n",
    "for i in range(3):\n",
    "  try:\n",
    "    logger.debug('Iteração número {0}'.format(i))\n",
    "    print('Vamos dividir dois números!')\n",
    "\n",
    "    num_1 = int(input('Digite o primeiro número:'))\n",
    "    logger.debug('O usuário digitou o primeiro número: {0}'.format(num_1))\n",
    "\n",
    "    num_2 = int(input('Digite o segundo número:'))\n",
    "    logger.debug('O usuário digitou o segundo número: {0}'.format(num_2))\n",
    "\n",
    "    resultado = num_1/num_2\n",
    "    print('O resultado é',resultado)\n",
    "    logger.debug('O resultado da operação: {0}'.format(resultado))\n",
    "\n",
    "  except ZeroDivisionError:\n",
    "    print('Essa operação é impossível')\n",
    "    logger.warning('O usuário tentou fazer uma divisão por 0')\n",
    "\n",
    "  except Exception as erro:\n",
    "    print('Erro, tente novamente!')\n",
    "    logger.error('Erro não esperado ->'+str(erro))\n",
    "\n",
    "  finally:\n",
    "    print('----------------------')\n",
    "\n",
    "logger.info('O programa foi finalizado')"
   ]
  },
  {
   "cell_type": "code",
   "execution_count": null,
   "id": "8a334366-6b92-4171-9fb4-7169578b8e3b",
   "metadata": {},
   "outputs": [],
   "source": []
  }
 ],
 "metadata": {
  "kernelspec": {
   "display_name": "Python 3 (ipykernel)",
   "language": "python",
   "name": "python3"
  },
  "language_info": {
   "codemirror_mode": {
    "name": "ipython",
    "version": 3
   },
   "file_extension": ".py",
   "mimetype": "text/x-python",
   "name": "python",
   "nbconvert_exporter": "python",
   "pygments_lexer": "ipython3",
   "version": "3.12.4"
  }
 },
 "nbformat": 4,
 "nbformat_minor": 5
}
