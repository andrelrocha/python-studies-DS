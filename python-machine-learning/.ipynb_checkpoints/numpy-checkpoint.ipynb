{
 "cells": [
  {
   "cell_type": "code",
   "execution_count": 4,
   "id": "3f7c56a4-32c8-4423-bdd1-b65b039bf213",
   "metadata": {},
   "outputs": [
    {
     "name": "stdout",
     "output_type": "stream",
     "text": [
      "Channels:\n",
      " - defaults\n",
      "Platform: win-64\n",
      "Collecting package metadata (repodata.json): ...working... done\n",
      "Solving environment: ...working... done\n",
      "\n",
      "## Package Plan ##\n",
      "\n",
      "  environment location: C:\\Users\\andre\\anaconda3\n",
      "\n",
      "  added / updated specs:\n",
      "    - numpy\n",
      "\n",
      "\n",
      "The following packages will be downloaded:\n",
      "\n",
      "    package                    |            build\n",
      "    ---------------------------|-----------------\n",
      "    ca-certificates-2024.7.2   |       haa95532_0         128 KB\n",
      "    certifi-2024.7.4           |  py312haa95532_0         160 KB\n",
      "    conda-24.7.1               |  py312haa95532_0         1.2 MB\n",
      "    ------------------------------------------------------------\n",
      "                                           Total:         1.5 MB\n",
      "\n",
      "The following packages will be UPDATED:\n",
      "\n",
      "  ca-certificates                      2024.3.11-haa95532_0 --> 2024.7.2-haa95532_0 \n",
      "  certifi                          2024.6.2-py312haa95532_0 --> 2024.7.4-py312haa95532_0 \n",
      "  conda                              24.5.0-py312haa95532_0 --> 24.7.1-py312haa95532_0 \n",
      "\n",
      "\n",
      "\n",
      "Downloading and Extracting Packages: ...working... done\n",
      "Preparing transaction: ...working... done\n",
      "Verifying transaction: ...working... done\n",
      "Executing transaction: ...working... done\n"
     ]
    }
   ],
   "source": [
    "!conda install numpy -y"
   ]
  },
  {
   "cell_type": "code",
   "execution_count": 11,
   "id": "88f56a9b-77d6-4886-a6d0-596c3e7113a4",
   "metadata": {},
   "outputs": [
    {
     "name": "stdout",
     "output_type": "stream",
     "text": [
      "[2 4 6]\n",
      "[2 4 6]\n",
      "(3, 3)\n",
      "[1, 2, 3, 4, 5, 6]\n",
      "[5 7 9]\n",
      "[1, 2, 3, 1, 2, 3, 1, 2, 3]\n",
      "[3 6 9]\n",
      "[[21 14 13]\n",
      " [20 60 51]\n",
      " [40 35 27]]\n",
      "[[19 10  7]\n",
      " [12 50 39]\n",
      " [26 19  9]]\n",
      "[[ 2  4  6]\n",
      " [ 8 10 12]\n",
      " [14 16 18]]\n",
      "[[151 203 154]\n",
      " [358 485 373]\n",
      " [565 767 592]]\n",
      "[[138 180 222]\n",
      " [551 667 783]\n",
      " [267 345 423]]\n",
      "(2, 3)\n",
      "[[30 36 42]\n",
      " [66 81 96]]\n"
     ]
    },
    {
     "ename": "ValueError",
     "evalue": "shapes (3,3) and (2,3) not aligned: 3 (dim 1) != 2 (dim 0)",
     "output_type": "error",
     "traceback": [
      "\u001b[1;31m---------------------------------------------------------------------------\u001b[0m",
      "\u001b[1;31mValueError\u001b[0m                                Traceback (most recent call last)",
      "Cell \u001b[1;32mIn[11], line 30\u001b[0m\n\u001b[0;32m     28\u001b[0m \u001b[38;5;28mprint\u001b[39m(matriz23\u001b[38;5;241m.\u001b[39mshape) \u001b[38;5;66;03m# (2, 3)\u001b[39;00m\n\u001b[0;32m     29\u001b[0m \u001b[38;5;28mprint\u001b[39m(np\u001b[38;5;241m.\u001b[39mdot(matriz23, matriz2d)) \u001b[38;5;66;03m# [[30 36 42] [66 81 96]]\u001b[39;00m\n\u001b[1;32m---> 30\u001b[0m \u001b[38;5;28mprint\u001b[39m(np\u001b[38;5;241m.\u001b[39mdot(matriz2d, matriz23))\n",
      "\u001b[1;31mValueError\u001b[0m: shapes (3,3) and (2,3) not aligned: 3 (dim 1) != 2 (dim 0)"
     ]
    }
   ],
   "source": [
    "import numpy as np\n",
    "\n",
    "matriz1d = np.array([1, 2, 3])\n",
    "matriz2d = np.array([[1, 2, 3], [4, 5, 6], [7, 8, 9]])\n",
    "\n",
    "print(matriz1d * 2) \n",
    "print(matriz1d + matriz1d)\n",
    "\n",
    "print(matriz2d.shape) \n",
    "\n",
    "\n",
    "print([1, 2, 3] + [4, 5, 6]) \n",
    "print(np.array([1, 2, 3]) + np.array([4, 5, 6]))\n",
    "\n",
    "print([1, 2, 3]*3) \n",
    "print(np.array([1, 2, 3])*3) \n",
    "\n",
    "matriz2d = np.array([[1, 2, 3], [4, 5, 6], [7, 8, 9]])\n",
    "matriz2d2 = np.array([[20, 12, 10], [16, 55, 45], [33, 27, 18]])\n",
    "print(matriz2d + matriz2d2)\n",
    "print(matriz2d2 - matriz2d)\n",
    "print(matriz2d*2)\n",
    "\n",
    "#MULTIPLICAÇÃO DE MATRIZES\n",
    "print(np.dot(matriz2d, matriz2d2)) \n",
    "print(np.dot(matriz2d2, matriz2d)) \n",
    "matriz23 = np.array([[1, 2, 3], [4, 5, 6]])\n",
    "print(matriz23.shape) # (2, 3)\n",
    "print(np.dot(matriz23, matriz2d)) # [[30 36 42] [66 81 96]]\n",
    "print(np.dot(matriz2d, matriz23))"
   ]
  },
  {
   "cell_type": "code",
   "execution_count": 15,
   "id": "95c3a862-058e-43aa-b802-a49b5ec373b6",
   "metadata": {},
   "outputs": [
    {
     "name": "stdout",
     "output_type": "stream",
     "text": [
      "[-3. -4.]\n",
      "[8. 4.]\n",
      "[6 8]\n",
      "[[0. 0. 0.]]\n",
      "[[1. 1.]\n",
      " [1. 1.]]\n",
      "[[3 3]]\n",
      "[[nan]\n",
      " [nan]]\n",
      "[0 1 2 3 4]\n",
      "[0.  0.4 0.8 1.2 1.6]\n",
      "5\n",
      "[5 6 7 8 9]\n",
      "[0 1 2 3 4]\n",
      "[2 3 4 5 6 7]\n",
      "[0 2 4 6 8]\n"
     ]
    }
   ],
   "source": [
    "import numpy as np\n",
    "\n",
    "ponto_original= np.array([3, 4])\n",
    "rotacao = np.array([[-1.0, 0.0], [0.0, -1.0]])\n",
    "\n",
    "ponto_rotacionado = np.dot(rotacao, ponto_original)\n",
    "print(ponto_rotacionado)\n",
    "\n",
    "translacao = np.array([5.0, 0.0])\n",
    "ponto_transladado = ponto_original + translacao\n",
    "print(ponto_transladado)\n",
    "\n",
    "escala = 2\n",
    "ponto_escalonado = ponto_original * escala\n",
    "print(ponto_escalonado)\n",
    "\n",
    "print(np.zeros((1, 3))) # [[0. 0. 0.]]\n",
    "print(np.ones((2, 2))) # [[1. 1.] [1. 1.]]\n",
    "print(np.full((1, 2), 3)) # [[3 3]]\n",
    "print(np.full((2, 1), np.nan))\n",
    "\n",
    "\n",
    "print(np.arange(5)) # [0 1 2 3 4]\n",
    "print(np.arange(0, 2, 0.4)) # [0. 0.4 0.8 1.2 1.6]\n",
    "\n",
    "\n",
    "vetor = np.arange(10)\n",
    "print(vetor[5]) # 5\n",
    "print(vetor[5:]) # [5 6 7 8 9]\n",
    "print(vetor[:5]) # [0 1 2 3 4]\n",
    "print(vetor[2:8]) # [2 3 4 5 6 7]\n",
    "print(vetor[0:10:2]) # [0 2 4 6 8]"
   ]
  },
  {
   "cell_type": "code",
   "execution_count": 18,
   "id": "1b1fa50e-439c-40bc-bbd0-210ede745a42",
   "metadata": {},
   "outputs": [
    {
     "name": "stdout",
     "output_type": "stream",
     "text": [
      "(3, 2)\n",
      "[1 2 3 4 5 6]\n",
      "[[1 2 3]\n",
      " [4 5 6]]\n"
     ]
    }
   ],
   "source": [
    "import numpy as np\n",
    "\n",
    "matriz_coluna = np.array([[1, 2], [3, 4], [5, 6]])\n",
    "print(matriz_coluna.shape)\n",
    "\n",
    "vetor = matriz_coluna.ravel()\n",
    "print(vetor)\n",
    "\n",
    "matriz_linha = matriz_coluna.reshape((2, 3))\n",
    "print(matriz_linha)\n",
    "\n",
    "matriz_invalida = matriz_coluna.reshape((2, 4)) # ValueError: cannot reshape array of size 6 into shape (2,4)"
   ]
  },
  {
   "cell_type": "code",
   "execution_count": 33,
   "id": "1ad318ca-0ee0-4385-b7a4-897e7248a8f2",
   "metadata": {},
   "outputs": [
    {
     "name": "stdout",
     "output_type": "stream",
     "text": [
      "(10, 12)\n",
      "275.7\n",
      "275.7\n",
      "316.25\n",
      "316.25\n",
      "[185.7 276.1 331.3 245.6 212.9 271.3 310.9 288.1 304.  273.8 313.1 295.6]\n",
      "[316.25       355.66666667 284.41666667 238.16666667 253.83333333\n",
      " 271.91666667 258.41666667 296.41666667 268.83333333 213.08333333]\n",
      "[3795 4268 3413 2858 3046 3263 3101 3557 3226 2557]\n",
      "4268\n",
      "1\n",
      "4268\n",
      "499\n",
      "[358 499 480 461 384 439 452 496 498 483 468 451]\n",
      "[499 468 496 480 381 450 498 461 439 432]\n"
     ]
    }
   ],
   "source": [
    "import numpy as np\n",
    "\n",
    "vendas_anos = np.array([[149, 499, 112, 430, 115, 390, 187, 316, 361, 483, 353, 400],\n",
    "[258, 222, 461, 263, 384, 210, 452, 372, 417, 364, 468, 397],\n",
    "[259, 329, 417, 132, 318, 256, 362, 496, 232, 132, 306, 174],\n",
    "[117, 148, 480, 201, 160, 292, 146, 209, 298, 215, 358, 234],\n",
    "[169, 229, 381, 119, 225, 270, 379, 272, 167, 332, 144, 359],\n",
    "[358, 434, 228, 300, 122, 247, 142, 127, 191, 356, 450, 308],\n",
    "[105, 251, 317, 147, 214, 280, 289, 338, 498, 133, 304, 225],\n",
    "[156, 165, 299, 461, 290, 123, 451, 450, 353, 191, 167, 451],\n",
    "[149, 377, 389, 176, 103, 439, 269, 132, 200, 391, 426, 175],\n",
    "[137, 107, 229, 227, 198, 206, 432, 169, 323, 141, 155, 233]])\n",
    "print(vendas_anos.shape)\n",
    "\n",
    "print(np.mean(vendas_anos))\n",
    "print(vendas_anos.mean())\n",
    "\n",
    "primeiro_ano = vendas_anos[0, :]\n",
    "print(primeiro_ano.mean())\n",
    "print(primeiro_ano.mean(axis=0))\n",
    "\n",
    "print(vendas_anos.mean(axis=0))\n",
    "print(vendas_anos.mean(axis=1)) #VAI CALCULAR AS MÉDIAS DE CADA LINHA\n",
    "\n",
    "\n",
    "soma_ano = vendas_anos.sum(axis=1)\n",
    "print(soma_ano)\n",
    "maximo_vendas_anuais = soma_ano.max()\n",
    "print(maximo_vendas_anuais) \n",
    "indice_max = soma_ano.argmax()\n",
    "print(indice_max) \n",
    "print(soma_ano[indice_max]) \n",
    "\n",
    "print(vendas_anos.max())\n",
    "print(vendas_anos.max(axis=0))\n",
    "print(vendas_anos.max(axis=1))\n",
    "\n"
   ]
  },
  {
   "cell_type": "raw",
   "id": "23f44507-9bf0-4f2e-a563-98bc01a52660",
   "metadata": {},
   "source": [
    "Quando o parâmetro axis é especificado com o valor 0, a função mean vai calcular a média dos elementos de todo aquele eixo. Ou seja, quando axis=0, a média é calculada ao longo de todas as linhas, gerando um resultado para cada linha. Neste caso, o resultado é [2.0, 5.0], pois a média de [1, 2, 3] é o 2.0, e a média de [4, 5, 6] é 5.0.\n",
    "\n",
    "Agora, calcule para o eixo igual a 1. A função mean vai calcular a média ao longo de todas as colunas. Ou seja, a média de [1, 4], a média de [2, 5] e a média de [3, 6]. Isto resulta no vetor [2.5, 3.5, 4.5]\n",
    "De forma geral, lembre-se de que, quando o eixo é especificado, a função vai ser aplicada em todo aquele eixo. Além disso, o resultado terá o tamanho da outra dimensão. Se uma matriz tem tamanho m x n, quando axis=0, o resultado terá tamanho (n, ) e quando axis=1, o tamanho será (m, ).\n",
    "\n",
    "\n",
    "RESUMINDO - AXIS = 0 -> CALCULA OS VALORES DE UMA COLUNA\n",
    "AXIS = 1 = -> CALCULA OS VALORES DE UMA LINHA"
   ]
  },
  {
   "cell_type": "code",
   "execution_count": 35,
   "id": "b32bb6f2-b43d-4ede-93e4-c32d5ba9a897",
   "metadata": {},
   "outputs": [
    {
     "name": "stdout",
     "output_type": "stream",
     "text": [
      "[2011 2012 2013 2014 2015 2016 2017 2018 2019 2020]\n",
      "['Janeiro', 'Fevereiro', 'Março', 'Abril', 'Maio', 'Junho', 'Julho', 'Agosto', 'Setembro', 'Outubro', 'Novembro', 'Dezembro']\n",
      "A maior venda de 2011 ocorreu no mês de Fevereiro e foi de 499 computadores\n",
      "A maior venda de 2012 ocorreu no mês de Novembro e foi de 468 computadores\n",
      "A maior venda de 2013 ocorreu no mês de Agosto e foi de 496 computadores\n",
      "A maior venda de 2014 ocorreu no mês de Março e foi de 480 computadores\n",
      "A maior venda de 2015 ocorreu no mês de Março e foi de 381 computadores\n",
      "A maior venda de 2016 ocorreu no mês de Novembro e foi de 450 computadores\n",
      "A maior venda de 2017 ocorreu no mês de Setembro e foi de 498 computadores\n",
      "A maior venda de 2018 ocorreu no mês de Abril e foi de 461 computadores\n",
      "A maior venda de 2019 ocorreu no mês de Junho e foi de 439 computadores\n",
      "A maior venda de 2020 ocorreu no mês de Julho e foi de 432 computadores\n"
     ]
    }
   ],
   "source": [
    "import numpy as np\n",
    "import locale\n",
    "from datetime import datetime\n",
    "\n",
    "vendas_anos = np.array([[149, 499, 112, 430, 115, 390, 187, 316, 361, 483, 353, 400],\n",
    "[258, 222, 461, 263, 384, 210, 452, 372, 417, 364, 468, 397],\n",
    "[259, 329, 417, 132, 318, 256, 362, 496, 232, 132, 306, 174],\n",
    "[117, 148, 480, 201, 160, 292, 146, 209, 298, 215, 358, 234],\n",
    "[169, 229, 381, 119, 225, 270, 379, 272, 167, 332, 144, 359],\n",
    "[358, 434, 228, 300, 122, 247, 142, 127, 191, 356, 450, 308],\n",
    "[105, 251, 317, 147, 214, 280, 289, 338, 498, 133, 304, 225],\n",
    "[156, 165, 299, 461, 290, 123, 451, 450, 353, 191, 167, 451],\n",
    "[149, 377, 389, 176, 103, 439, 269, 132, 200, 391, 426, 175],\n",
    "[137, 107, 229, 227, 198, 206, 432, 169, 323, 141, 155, 233]])\n",
    "\n",
    "locale.setlocale(locale.LC_ALL, 'pt_BR')\n",
    "anos = np.arange(2011, 2021)\n",
    "meses = list(map(lambda x: datetime.strptime(str(x), \"%m\"), np.arange(1, 13)))\n",
    "meses = list(map(lambda x: x.strftime(\"%B\").title(), meses))\n",
    "print(anos)\n",
    "print(meses)\n",
    "for i in range(len(anos)):\n",
    "    indice_max_ano = vendas_anos[i, :].argmax() \n",
    "    #i -> É o índice da linha que você está selecionando. Isso seleciona a i-ésima linha do array.\n",
    "    # : -> É um operador de fatia (slice) que indica que você deseja selecionar todas as colunas da linha especificada.\n",
    "    maior_venda_ano = vendas_anos[i, indice_max_ano]\n",
    "    print(f\"A maior venda de {anos[i]} ocorreu no mês de {meses[indice_max_ano]} e foi de {maior_venda_ano} computadores\")"
   ]
  },
  {
   "cell_type": "code",
   "execution_count": null,
   "id": "acbd497a-97d8-4bba-80b3-12b709351946",
   "metadata": {},
   "outputs": [],
   "source": []
  }
 ],
 "metadata": {
  "kernelspec": {
   "display_name": "Python 3 (ipykernel)",
   "language": "python",
   "name": "python3"
  },
  "language_info": {
   "codemirror_mode": {
    "name": "ipython",
    "version": 3
   },
   "file_extension": ".py",
   "mimetype": "text/x-python",
   "name": "python",
   "nbconvert_exporter": "python",
   "pygments_lexer": "ipython3",
   "version": "3.12.4"
  }
 },
 "nbformat": 4,
 "nbformat_minor": 5
}
