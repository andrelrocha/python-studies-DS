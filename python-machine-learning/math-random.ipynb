{
 "cells": [
  {
   "cell_type": "code",
   "execution_count": 1,
   "id": "c61b3588-0f8d-421e-82ea-77c799cc223e",
   "metadata": {},
   "outputs": [
    {
     "name": "stdout",
     "output_type": "stream",
     "text": [
      "0.9628472323263034\n",
      "47.161652226656884\n",
      "10.28775035611321\n",
      "74.09514009641447\n",
      "2\n",
      "5\n",
      "[6]\n",
      "[6, 5, 6, 5, 4, 6, 5, 4, 6, 6]\n"
     ]
    }
   ],
   "source": [
    "import random\n",
    "random_decimal = random.random()*100\n",
    "print(random.random())\n",
    "print(random_decimal)\n",
    "\n",
    "def minha_funcao_random(numero_minimo,numero_maximo):\n",
    "  diferenca = numero_maximo - numero_minimo\n",
    "  return diferenca * random.random() + numero_minimo\n",
    "\n",
    "print(minha_funcao_random(10,20))\n",
    "\n",
    "\n",
    "print(random.uniform(10,100))\n",
    "\n",
    "print(random.randint(1,6))\n",
    "\n",
    "dado = [1,2,3,4,5,6]\n",
    "\n",
    "print(random.choice(dado)) \n",
    "\n",
    "#VICIAR O DADO\n",
    "dado = [1,2,3,4,5,6]\n",
    "pesos = [1,1,1,1,2,4]\n",
    "print(random.choices(dado, weights = pesos))\n",
    "print(random.choices(dado, weights = pesos, k = 10))"
   ]
  },
  {
   "cell_type": "code",
   "execution_count": 4,
   "id": "b54ee00d-f53a-45fe-9ed4-882712ea7fb0",
   "metadata": {},
   "outputs": [
    {
     "name": "stdout",
     "output_type": "stream",
     "text": [
      "['10 de Copas', '4 de Copas', '3 de Copas', '2 de Copas', '9 de Copas', 'Ás de Copas', '5 de Copas', '6 de Copas', '7 de Copas', 'Dama de Copas', '8 de Copas', 'Rei de Copas', 'Valete de Copas']\n",
      "['10 de Copas', '2 de Copas', '3 de Copas', '4 de Copas', '5 de Copas', '6 de Copas', '7 de Copas', '8 de Copas', '9 de Copas', 'Dama de Copas', 'Rei de Copas', 'Valete de Copas', 'Ás de Copas']\n",
      "('4 de Copas', '3 de Copas', '2 de Copas')\n",
      "('4 de Copas', '2 de Copas', '3 de Copas')\n",
      "('3 de Copas', '4 de Copas', '2 de Copas')\n",
      "('3 de Copas', '2 de Copas', '4 de Copas')\n",
      "('2 de Copas', '4 de Copas', '3 de Copas')\n",
      "('2 de Copas', '3 de Copas', '4 de Copas')\n"
     ]
    }
   ],
   "source": [
    "import random\n",
    "import itertools\n",
    "\n",
    "baralho = ['Ás de Copas','2 de Copas','3 de Copas','4 de Copas','5 de Copas','6 de Copas','7 de Copas',\n",
    "'8 de Copas','9 de Copas','10 de Copas','Valete de Copas','Dama de Copas','Rei de Copas']\n",
    "\n",
    "random.shuffle(baralho)\n",
    "\n",
    "print(baralho)\n",
    "print(sorted(baralho, key=lambda x: x[0]))\n",
    "\n",
    "baralho_numerado = baralho[1:4]\n",
    "\n",
    "permutations = list(itertools.permutations(baralho_numerado))\n",
    "for elemento in permutations:\n",
    "    print(elemento)"
   ]
  },
  {
   "cell_type": "code",
   "execution_count": 6,
   "id": "8d71df9e-6770-498c-8331-461948f44b9f",
   "metadata": {},
   "outputs": [
    {
     "name": "stdout",
     "output_type": "stream",
     "text": [
      "['Dama de Copas', 'Ás de Copas']\n",
      "['9 de Copas', '5 de Copas', '4 de Copas']\n"
     ]
    }
   ],
   "source": [
    "import random\n",
    "\n",
    "baralho = ['Ás de Copas','2 de Copas','3 de Copas','4 de Copas','5 de Copas','6 de Copas','7 de Copas',\n",
    "'8 de Copas','9 de Copas','10 de Copas','Valete de Copas','Dama de Copas','Rei de Copas']\n",
    "\n",
    "print(random.choices(baralho, k = 2)) \n",
    "\n",
    "sorteio = random.sample(baralho, 3)\n",
    "print(sorteio)"
   ]
  },
  {
   "cell_type": "code",
   "execution_count": 9,
   "id": "2f079c3f-a4d3-435a-9101-59fe75f6f1be",
   "metadata": {},
   "outputs": [
    {
     "name": "stdout",
     "output_type": "stream",
     "text": [
      "0.1667675\n",
      "0.583093\n"
     ]
    }
   ],
   "source": [
    "import random\n",
    "\n",
    "#MÉTODO DE MONTE CARLO, GERA INÚMERAS VEZES O COMPORTAMENTO E VERIFICA QUANTAS VEZES OCORREU\n",
    "\n",
    "numero_de_tentativas = 2000000\n",
    "quantidade_de_acertos = 0\n",
    "\n",
    "for _ in range(numero_de_tentativas):\n",
    "  dado_1 = random.randint(1,6)\n",
    "  dado_2 = random.randint(1,6)\n",
    "\n",
    "  if (dado_1 == dado_2):\n",
    "    quantidade_de_acertos += 1\n",
    "\n",
    "print(quantidade_de_acertos/numero_de_tentativas)\n",
    "\n",
    "quantidade_de_dez = 0\n",
    "for x in range(numero_de_tentativas):\n",
    "    dado_1 = random.randint(1,6)\n",
    "    dado_2 = random.randint(1,6)\n",
    "\n",
    "    if dado_1 + dado_2 > 6:\n",
    "        quantidade_de_dez += 1\n",
    "\n",
    "print(quantidade_de_dez/numero_de_tentativas)"
   ]
  },
  {
   "cell_type": "code",
   "execution_count": 10,
   "id": "f52ed262-c68f-47ca-bf32-e6d7511b8cdf",
   "metadata": {},
   "outputs": [
    {
     "name": "stdout",
     "output_type": "stream",
     "text": [
      "3.141592653589793\n",
      "inf\n",
      "-inf\n",
      "True\n",
      "False\n",
      "True\n",
      "nan\n",
      "False\n"
     ]
    },
    {
     "ename": "TypeError",
     "evalue": "must be real number, not str",
     "output_type": "error",
     "traceback": [
      "\u001b[1;31m---------------------------------------------------------------------------\u001b[0m",
      "\u001b[1;31mTypeError\u001b[0m                                 Traceback (most recent call last)",
      "Cell \u001b[1;32mIn[10], line 19\u001b[0m\n\u001b[0;32m     15\u001b[0m \u001b[38;5;28mprint\u001b[39m(math\u001b[38;5;241m.\u001b[39mnan) \u001b[38;5;66;03m# nan\u001b[39;00m\n\u001b[0;32m     17\u001b[0m \u001b[38;5;28mprint\u001b[39m(math\u001b[38;5;241m.\u001b[39misnan(\u001b[38;5;241m10\u001b[39m)) \u001b[38;5;66;03m# False\u001b[39;00m\n\u001b[1;32m---> 19\u001b[0m \u001b[38;5;28mprint\u001b[39m(math\u001b[38;5;241m.\u001b[39misnan(\u001b[38;5;124m'\u001b[39m\u001b[38;5;124mTexto\u001b[39m\u001b[38;5;124m'\u001b[39m)) \u001b[38;5;66;03m# TypeError\u001b[39;00m\n\u001b[0;32m     21\u001b[0m \u001b[38;5;28mprint\u001b[39m(math\u001b[38;5;241m.\u001b[39misnan(math\u001b[38;5;241m.\u001b[39mnan))\n",
      "\u001b[1;31mTypeError\u001b[0m: must be real number, not str"
     ]
    }
   ],
   "source": [
    "import math\n",
    "\n",
    "print(math.pi) # 3.141592653589793\n",
    "\n",
    "print(math.inf) # inf\n",
    "\n",
    "print(-math.inf) # -inf\n",
    "\n",
    "print(math.inf > 100000000000) # True\n",
    "\n",
    "print(math.isinf(100000000000)) # False\n",
    "\n",
    "print(math.isinf(math.inf)) # True\n",
    "\n",
    "print(math.nan) # nan\n",
    "\n",
    "print(math.isnan(10)) # False\n",
    "\n",
    "print(math.isnan('Texto')) # TypeError\n",
    "\n",
    "print(math.isnan(math.nan))"
   ]
  },
  {
   "cell_type": "code",
   "execution_count": 11,
   "id": "c1abb555-cbc5-4c5a-aaeb-b3cf6c2e50b0",
   "metadata": {},
   "outputs": [
    {
     "name": "stdout",
     "output_type": "stream",
     "text": [
      "10\n"
     ]
    }
   ],
   "source": [
    "import math\n",
    "\n",
    "print(math.ceil(9.24)) # 10\n",
    "\n",
    "print(math.ceil(-9.24)) # -9\n",
    "\n",
    "print(math.floor(9.89)) # 9\n",
    "\n",
    "print(math.floor(-9.89)) # -10\n",
    "\n",
    "print(math.trunc(9.80)) # 9\n",
    "\n",
    "print(math.trunc(-9.80)) # -9\n",
    "\n",
    "print(math.fabs(2.3)) # 2.3\n",
    "\n",
    "print(math.fabs(-2.3)) # 2.3"
   ]
  },
  {
   "cell_type": "code",
   "execution_count": 14,
   "id": "46e2957d-9f2c-4bbf-8acd-a8cff2bfa1a1",
   "metadata": {},
   "outputs": [
    {
     "name": "stdout",
     "output_type": "stream",
     "text": [
      "100.0\n",
      "10.0\n",
      "2.0\n",
      "720\n",
      "True\n",
      "True\n",
      "5\n",
      "5654.8667764616275\n",
      "6361.725123519331\n"
     ]
    }
   ],
   "source": [
    "import math\n",
    "\n",
    "print(math.pow(10, 2)) # 100.0\n",
    "\n",
    "print(math.sqrt(100)) # 10.0\n",
    "\n",
    "print(math.log(100, 10)) # 2.0\n",
    "\n",
    "print(math.factorial(6)) # 720\n",
    "\n",
    "print(math.isclose(10, 8, rel_tol=0.2)) # True - passa porcentagem 20%\n",
    "\n",
    "print(math.isclose(10, 5, abs_tol=5)) # True\n",
    "\n",
    "print(math.gcd(10, 15)) # 5\n",
    "\n",
    "\n",
    "area_pizza_media = math.pi * math.pow(30, 2)\n",
    "\n",
    "print(area_pizza_media * 2) \n",
    "\n",
    "area_pizza_grande = math.pi * math.pow(45, 2)\n",
    "\n",
    "print(area_pizza_grande) "
   ]
  },
  {
   "cell_type": "code",
   "execution_count": 15,
   "id": "eefbb918-cd57-4d24-846b-848b5ef670df",
   "metadata": {},
   "outputs": [
    {
     "name": "stdout",
     "output_type": "stream",
     "text": [
      "2.23606797749979\n"
     ]
    }
   ],
   "source": [
    "import math\n",
    "\n",
    "math.hypot(3, 4)  # 5.0  --calcula a hipotenuna\n",
    "print(math.dist((1,3),(3,2))) # calcula a distancia entre dois pontos cartesianos"
   ]
  },
  {
   "cell_type": "code",
   "execution_count": null,
   "id": "f6716bce-e59c-45c0-9f59-cae0429f11ce",
   "metadata": {},
   "outputs": [],
   "source": []
  }
 ],
 "metadata": {
  "kernelspec": {
   "display_name": "Python 3 (ipykernel)",
   "language": "python",
   "name": "python3"
  },
  "language_info": {
   "codemirror_mode": {
    "name": "ipython",
    "version": 3
   },
   "file_extension": ".py",
   "mimetype": "text/x-python",
   "name": "python",
   "nbconvert_exporter": "python",
   "pygments_lexer": "ipython3",
   "version": "3.12.4"
  }
 },
 "nbformat": 4,
 "nbformat_minor": 5
}
