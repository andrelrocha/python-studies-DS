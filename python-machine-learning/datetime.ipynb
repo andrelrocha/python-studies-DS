{
 "cells": [
  {
   "cell_type": "code",
   "execution_count": 10,
   "id": "d61fd8b5-b1fa-4dc9-9117-6b5dc2592ead",
   "metadata": {},
   "outputs": [
    {
     "name": "stdout",
     "output_type": "stream",
     "text": [
      "24\n"
     ]
    }
   ],
   "source": [
    "from datetime import date\n",
    "\n",
    "hoje = date.today()\n",
    "nascimento = date(1999, 11, 9)\n",
    "idade = lambda a,b: (b-a).days // 365\n",
    "idade_em_anos = idade(nascimento, hoje)\n",
    "print(idade_em_anos)"
   ]
  },
  {
   "cell_type": "code",
   "execution_count": 11,
   "id": "c9208f75-3a17-4403-9f47-8e51479c4616",
   "metadata": {},
   "outputs": [
    {
     "name": "stdout",
     "output_type": "stream",
     "text": [
      "Daqui a 28 dias será 2024-09-19\n"
     ]
    }
   ],
   "source": [
    "from datetime import date, timedelta\n",
    "hoje = date.today()\n",
    "intervalo_dias = timedelta(days=28)\n",
    "dia_futuro = hoje + intervalo_dias\n",
    "print(f\"Daqui a 28 dias será {dia_futuro}\")"
   ]
  },
  {
   "cell_type": "code",
   "execution_count": 17,
   "id": "aa11a376-1e4a-4782-974f-b652755168b0",
   "metadata": {},
   "outputs": [
    {
     "name": "stdout",
     "output_type": "stream",
     "text": [
      "[datetime.date(2019, 1, 19), datetime.date(2020, 3, 19), datetime.date(2013, 5, 29), datetime.date(2012, 7, 2), datetime.date(2016, 7, 6), datetime.date(2021, 8, 12), datetime.date(2021, 8, 24), datetime.date(2018, 9, 2), datetime.date(2018, 9, 5), datetime.date(2012, 10, 24)]\n",
      "[datetime.date(2018, 9, 2), datetime.date(2012, 7, 2), datetime.date(2018, 9, 5), datetime.date(2016, 7, 6), datetime.date(2021, 8, 12), datetime.date(2020, 3, 19), datetime.date(2019, 1, 19), datetime.date(2012, 10, 24), datetime.date(2021, 8, 24), datetime.date(2013, 5, 29)]\n"
     ]
    }
   ],
   "source": [
    "datas = [date(2016, 7, 6), date(2012, 10, 24), date(2020, 3, 19), date(2021, 8, 24), date(2021, 8, 12), date(2013, 5, 29), date(2018, 9, 2), date(2019, 1, 19), date(2012, 7, 2), date(2018, 9, 5)]\n",
    "print(sorted(datas, key=lambda d: (d.month, d.day)))\n",
    "\n",
    "print(sorted(datas, key=lambda d: d.day))"
   ]
  },
  {
   "cell_type": "code",
   "execution_count": 20,
   "id": "dffa9d96-b5e0-41fa-9155-ec941462e4b9",
   "metadata": {},
   "outputs": [
    {
     "name": "stdout",
     "output_type": "stream",
     "text": [
      "2024-08-22 14:46:57.539132\n",
      "4 5\n",
      "01 de Janeiro de 2021 é o dia 4, logo uma sexta-feira\n",
      "[datetime.datetime(2021, 5, 24, 20, 30), datetime.datetime(2021, 5, 25, 20, 30), datetime.datetime(2021, 5, 26, 20, 30), datetime.datetime(2021, 5, 27, 20, 30), datetime.datetime(2021, 5, 28, 20, 30), datetime.datetime(2021, 5, 29, 20, 30), datetime.datetime(2021, 5, 30, 20, 30)]\n"
     ]
    }
   ],
   "source": [
    "from datetime import datetime\n",
    "\n",
    "hora_atual = datetime.now()\n",
    "print(hora_atual)\n",
    "\n",
    "dia_primeiro = datetime(2021, 1, 1)\n",
    "print(dia_primeiro.weekday(), dia_primeiro.isoweekday())\n",
    "print(f\"01 de Janeiro de 2021 é o dia {dia_primeiro.weekday()}, logo uma sexta-feira\")\n",
    "\n",
    "\n",
    "inicio = datetime(2021, 5, 24, 20, 30)\n",
    "semana = [inicio]\n",
    "for i in range(1, 7):\n",
    "  dia_seguinte = inicio + timedelta(days=i)\n",
    "  semana.append(dia_seguinte)\n",
    "print(semana) "
   ]
  },
  {
   "cell_type": "code",
   "execution_count": 21,
   "id": "ee926da3-5728-49c0-ba3c-5f2b01e5ab1c",
   "metadata": {},
   "outputs": [
    {
     "name": "stdout",
     "output_type": "stream",
     "text": [
      "[datetime.datetime(2021, 5, 24, 20, 30), datetime.datetime(2021, 5, 25, 21, 30), datetime.datetime(2021, 5, 26, 20, 30), datetime.datetime(2021, 5, 27, 21, 30), datetime.datetime(2021, 5, 28, 20, 30), datetime.datetime(2021, 5, 29, 20, 30), datetime.datetime(2021, 5, 30, 20, 30)]\n"
     ]
    }
   ],
   "source": [
    "from datetime import datetime\n",
    "\n",
    "def muda_horario(dia):\n",
    "  if dia.weekday() == 1 or dia.weekday() == 3:\n",
    "    return dia.replace(hour=21)\n",
    "  else:\n",
    "    return dia\n",
    "\n",
    "inicio = datetime(2021, 5, 24, 20, 30)\n",
    "semana = [inicio]\n",
    "for i in range(1, 7):\n",
    "  dia_seguinte = inicio + timedelta(days=i)\n",
    "  semana.append(dia_seguinte)\n",
    "\n",
    "semana_atualizada = list(map(muda_horario, semana))\n",
    "print(semana_atualizada) "
   ]
  },
  {
   "cell_type": "code",
   "execution_count": 24,
   "id": "05184a84-0923-4721-9af5-1c8d6bd9d18c",
   "metadata": {},
   "outputs": [
    {
     "name": "stdout",
     "output_type": "stream",
     "text": [
      "Desde 2014-07-16 23:00:00 passaram 10 anos, 1 meses, 9 dias, 15 horas, 50 minutos e 38 segundos\n"
     ]
    }
   ],
   "source": [
    "import datetime\n",
    "d1 = datetime.datetime(2014,7,16,23)\n",
    "d2 = datetime.datetime.now()\n",
    "diff = d2-d1\n",
    "days = diff.days\n",
    "years, days = days // 365, days % 365\n",
    "months, days = days // 30, days % 30\n",
    "seconds = diff.seconds\n",
    "hours, seconds = seconds // 3600, seconds % 3600\n",
    "minutes, seconds = seconds // 60, seconds % 60\n",
    "print(\"Desde {} passaram {} anos, {} meses, {} dias, {} horas, {} minutos e {} segundos\".format(d1, years, months, days, hours, minutes, seconds))"
   ]
  },
  {
   "cell_type": "code",
   "execution_count": 33,
   "id": "aacdb9cd-1344-4e09-92d8-241ffd7d9df8",
   "metadata": {},
   "outputs": [
    {
     "name": "stdout",
     "output_type": "stream",
     "text": [
      "Desde 2024-08-06 09:30:00 passaram 2 meses e 24 dias\n"
     ]
    }
   ],
   "source": [
    "from datetime import datetime, timedelta\n",
    "hoje = datetime(2024, 5, 14, 9, 30)\n",
    "intervalo_dias = timedelta(weeks=12)\n",
    "dia_futuro = hoje + intervalo_dias\n",
    "diff = dia_futuro-hoje\n",
    "days = diff.days\n",
    "months, days = days // 30, days % 30\n",
    "print(\"Desde {} passaram {} meses e {} dias\".format(dia_futuro, months, days))\n"
   ]
  },
  {
   "cell_type": "raw",
   "id": "f5540d1f-138c-49a8-8787-31ca7afeaaee",
   "metadata": {},
   "source": [
    "Código\tDescrição\tExemplo\n",
    "%A\tNome do dia da semana completo\tMonday, Tuesday, …, Sunday\n",
    "%d\tNúmero do dia da semana\t01, 02, …, 31\n",
    "%b\tNome do mês de forma abreviada\tJan, Feb, Mar, ... , Dec\n",
    "%B\tNome do mês completo\tJanuary, February, …, December\n",
    "%m\tNúmero do mês\t01, 02, …, 12\n",
    "%y\tDois últimos dígitos do ano\t01, 02, …, 99\n",
    "%Y\tNúmero do ano completo\t0001, 0002, …, 2021, ...,\n",
    "%H\tNúmero da hora\t01, 02, …, 24\n",
    "%M\tNúmero do minuto\t01, 02, …, 59\n",
    "%S\tNúmero do segundo\t01, 02, …, 59\n",
    "%j\tNúmero do dia do ano\t001, 002, …, 365, 366\n",
    "%W\tNúmero da semana do ano\t00, 01, …, 53"
   ]
  },
  {
   "cell_type": "code",
   "execution_count": 36,
   "id": "9d0e7b55-34c0-4017-aaf5-ce76c26d4ca4",
   "metadata": {},
   "outputs": [
    {
     "name": "stdout",
     "output_type": "stream",
     "text": [
      "25/01/2024\n",
      "01 2024\n",
      "01 - 25 - 2024\n",
      "25 de janeiro de 2024 é uma quinta-feira\n",
      "A hora de inicio do estudo é às 20:30:05\n"
     ]
    }
   ],
   "source": [
    "import locale\n",
    "from datetime import datetime, timedelta\n",
    "locale.setlocale(locale.LC_ALL, 'pt_BR')\n",
    "data_inicio = date(2024, 1, 25)\n",
    "print(data_inicio.strftime(\"%d/%m/%Y\"))\n",
    "print(data_inicio.strftime(\"%m %Y\"))\n",
    "print(data_inicio.strftime(\"%m - %d - %Y\"))\n",
    "print(data_inicio.strftime(\"%d de %B de %Y é uma %A\"))\n",
    "\n",
    "\n",
    "inicio = datetime(2021, 5, 24, 20, 30, 5)\n",
    "print(inicio.strftime(\"A hora de inicio do estudo é às %H:%M:%S\"))"
   ]
  },
  {
   "cell_type": "code",
   "execution_count": 39,
   "id": "a32e9300-706d-45fc-8a2c-4fed18e774e5",
   "metadata": {},
   "outputs": [
    {
     "name": "stdout",
     "output_type": "stream",
     "text": [
      "Digite a sua data de nascimento\n"
     ]
    },
    {
     "name": "stdin",
     "output_type": "stream",
     "text": [
      " 09/11/1999\n"
     ]
    },
    {
     "name": "stdout",
     "output_type": "stream",
     "text": [
      "1999-11-09 00:00:00\n",
      "1900-04-02 00:00:00\n",
      "1900-01-01 20:30:05\n"
     ]
    }
   ],
   "source": [
    "from datetime import date\n",
    "\n",
    "print(\"Digite a sua data de nascimento\")\n",
    "data_nascimento = input()\n",
    "data_split = data_nascimento.split('/')\n",
    "dia = int(data_split[0])\n",
    "mes = int(data_split[1])\n",
    "ano = int(data_split[2])\n",
    "data = date(ano, mes, dia)\n",
    "\n",
    "data = datetime.strptime(data_nascimento, \"%d/%m/%Y\")\n",
    "print(data)\n",
    "\n",
    "\n",
    "data_string1 = \"02 de Abril de 1900\"\n",
    "data1 = datetime.strptime(data_string1, \"%d de %B de %Y\")\n",
    "print(data1)\n",
    "data_string2 = \"O alarme toca segunda-feira às 20:30:05\"\n",
    "data2 = datetime.strptime(data_string2, \"O alarme toca %A às %H:%M:%S\")\n",
    "print(data2)"
   ]
  },
  {
   "cell_type": "code",
   "execution_count": null,
   "id": "6aa608ca-3aa5-4a7b-aafb-318d640ef287",
   "metadata": {},
   "outputs": [],
   "source": []
  }
 ],
 "metadata": {
  "kernelspec": {
   "display_name": "Python 3 (ipykernel)",
   "language": "python",
   "name": "python3"
  },
  "language_info": {
   "codemirror_mode": {
    "name": "ipython",
    "version": 3
   },
   "file_extension": ".py",
   "mimetype": "text/x-python",
   "name": "python",
   "nbconvert_exporter": "python",
   "pygments_lexer": "ipython3",
   "version": "3.12.4"
  }
 },
 "nbformat": 4,
 "nbformat_minor": 5
}
