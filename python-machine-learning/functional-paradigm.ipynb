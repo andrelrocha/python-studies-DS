{
 "cells": [
  {
   "cell_type": "code",
   "execution_count": 2,
   "id": "ed915a6d-ad36-4824-b73f-1e8376282eeb",
   "metadata": {},
   "outputs": [
    {
     "name": "stdout",
     "output_type": "stream",
     "text": [
      "3\n"
     ]
    }
   ],
   "source": [
    "def filtrar(lista, limiar):\n",
    "  nova_lista = []\n",
    "  for elemento in lista:\n",
    "    if elemento > limiar:\n",
    "      nova_lista.append(elemento)\n",
    "  return nova_lista\n",
    "\n",
    "\n",
    "def soma(a, b):\n",
    "  b = b + a\n",
    "  return b\n",
    "\n",
    "f = soma\n",
    "print(f(2, 1))"
   ]
  },
  {
   "cell_type": "code",
   "execution_count": 17,
   "id": "fb5ca837-75ff-45a4-a9ed-a51b3b95d7ae",
   "metadata": {},
   "outputs": [
    {
     "name": "stdout",
     "output_type": "stream",
     "text": [
      "[60, 70]\n",
      "[75, 99]\n",
      "[60, 72]\n",
      "[30, 45]\n"
     ]
    }
   ],
   "source": [
    "def primeira_fase(idade):\n",
    "  return idade >= 75\n",
    "def segunda_fase(idade):\n",
    "  return 60 <= idade <= 74\n",
    "def terceira_fase(idade):\n",
    "  return idade <= 59\n",
    "\n",
    "def filtrar(lista, criterio):\n",
    "    nova_lista = []\n",
    "    for elemento in lista:\n",
    "        if criterio(elemento):\n",
    "            nova_lista.append(elemento)\n",
    "    return nova_lista\n",
    "\n",
    "\n",
    "lista = [10,20,30,40,50,60,70,80]\n",
    "segunda_fase_lista = filtrar(lista, segunda_fase)\n",
    "print(segunda_fase_lista)\n",
    "\n",
    "\n",
    "idades = [30, 45, 60, 72, 75, 99]\n",
    "primeiro_grupo = filtrar(idades, primeira_fase)\n",
    "segundo_grupo = filtrar(idades, segunda_fase)\n",
    "terceiro_grupo = filtrar(idades, terceira_fase)\n",
    "print(primeiro_grupo)\n",
    "print(segundo_grupo) \n",
    "print(terceiro_grupo)"
   ]
  },
  {
   "cell_type": "code",
   "execution_count": 16,
   "id": "9ab9474b-9238-42ff-bf20-c49920c0b78d",
   "metadata": {},
   "outputs": [
    {
     "name": "stdout",
     "output_type": "stream",
     "text": [
      "120\n",
      "55\n"
     ]
    }
   ],
   "source": [
    "def fatorial(n):\n",
    "    if n == 1:\n",
    "        return 1\n",
    "    aux = n - 1\n",
    "    return fatorial(aux)*n\n",
    "\n",
    "print(fatorial(5))\n",
    "\n",
    "\n",
    "def fibonacci(n):\n",
    "    if n == 0:\n",
    "        return 0\n",
    "    if n == 1:\n",
    "        return 1\n",
    "    return fibonacci(n-1) + fibonacci(n-2)\n",
    "\n",
    "print(fibonacci(10))"
   ]
  },
  {
   "cell_type": "code",
   "execution_count": 18,
   "id": "0a3e302b-88ac-4eaf-b4d0-8b147fd6c592",
   "metadata": {},
   "outputs": [
    {
     "name": "stdout",
     "output_type": "stream",
     "text": [
      "3\n",
      "Olá mundo\n"
     ]
    }
   ],
   "source": [
    "def quadratica(x):\n",
    "  return x*x\n",
    "\n",
    "lambda x: x*x\n",
    "lambda a,b: a+b\n",
    "lambda x: x[0].upper() + x[1:]\n",
    "\n",
    "\n",
    "f1 = lambda a,b: a+b\n",
    "print(f1(1, 2))\n",
    "f2 = lambda x: x[0].upper() + x[1:]\n",
    "print(f2('olá mundo'))"
   ]
  },
  {
   "cell_type": "code",
   "execution_count": null,
   "id": "6380cfab-3cec-4879-801b-b246973951c6",
   "metadata": {},
   "outputs": [],
   "source": []
  }
 ],
 "metadata": {
  "kernelspec": {
   "display_name": "Python 3 (ipykernel)",
   "language": "python",
   "name": "python3"
  },
  "language_info": {
   "codemirror_mode": {
    "name": "ipython",
    "version": 3
   },
   "file_extension": ".py",
   "mimetype": "text/x-python",
   "name": "python",
   "nbconvert_exporter": "python",
   "pygments_lexer": "ipython3",
   "version": "3.12.4"
  }
 },
 "nbformat": 4,
 "nbformat_minor": 5
}
