{
 "cells": [
  {
   "cell_type": "code",
   "execution_count": 2,
   "id": "ed915a6d-ad36-4824-b73f-1e8376282eeb",
   "metadata": {},
   "outputs": [
    {
     "name": "stdout",
     "output_type": "stream",
     "text": [
      "3\n"
     ]
    }
   ],
   "source": [
    "def filtrar(lista, limiar):\n",
    "  nova_lista = []\n",
    "  for elemento in lista:\n",
    "    if elemento > limiar:\n",
    "      nova_lista.append(elemento)\n",
    "  return nova_lista\n",
    "\n",
    "\n",
    "def soma(a, b):\n",
    "  b = b + a\n",
    "  return b\n",
    "\n",
    "f = soma\n",
    "print(f(2, 1))"
   ]
  },
  {
   "cell_type": "code",
   "execution_count": 1,
   "id": "fb5ca837-75ff-45a4-a9ed-a51b3b95d7ae",
   "metadata": {},
   "outputs": [
    {
     "name": "stdout",
     "output_type": "stream",
     "text": [
      "[60, 70]\n",
      "[75, 99]\n",
      "[60, 72]\n",
      "[30, 45]\n",
      "[75, 99]\n",
      "[60, 72]\n",
      "[30, 45]\n"
     ]
    }
   ],
   "source": [
    "def primeira_fase(idade):\n",
    "  return idade >= 75\n",
    "def segunda_fase(idade):\n",
    "  return 60 <= idade <= 74\n",
    "def terceira_fase(idade):\n",
    "  return idade <= 59\n",
    "\n",
    "def filtrar(lista, criterio):\n",
    "    nova_lista = []\n",
    "    for elemento in lista:\n",
    "        if criterio(elemento):\n",
    "            nova_lista.append(elemento)\n",
    "    return nova_lista\n",
    "\n",
    "\n",
    "lista = [10,20,30,40,50,60,70,80]\n",
    "segunda_fase_lista = filtrar(lista, segunda_fase)\n",
    "print(segunda_fase_lista)\n",
    "\n",
    "\n",
    "idades = [30, 45, 60, 72, 75, 99]\n",
    "primeiro_grupo = filtrar(idades, primeira_fase)\n",
    "segundo_grupo = filtrar(idades, segunda_fase)\n",
    "terceiro_grupo = filtrar(idades, terceira_fase)\n",
    "print(primeiro_grupo)\n",
    "print(segundo_grupo) \n",
    "print(terceiro_grupo)\n",
    "\n",
    "\n",
    "idades = [30, 45, 60, 72, 75, 99]\n",
    "primeiro_grupo = filtrar(idades, lambda x: x >= 75)\n",
    "segundo_grupo = filtrar(idades, lambda x: 60 <= x <= 74)\n",
    "terceiro_grupo = filtrar(idades, lambda x: x <= 59)\n",
    "print(primeiro_grupo) \n",
    "print(segundo_grupo)\n",
    "print(terceiro_grupo)"
   ]
  },
  {
   "cell_type": "code",
   "execution_count": 16,
   "id": "9ab9474b-9238-42ff-bf20-c49920c0b78d",
   "metadata": {},
   "outputs": [
    {
     "name": "stdout",
     "output_type": "stream",
     "text": [
      "120\n",
      "55\n"
     ]
    }
   ],
   "source": [
    "def fatorial(n):\n",
    "    if n == 1:\n",
    "        return 1\n",
    "    aux = n - 1\n",
    "    return fatorial(aux)*n\n",
    "\n",
    "print(fatorial(5))\n",
    "\n",
    "\n",
    "def fibonacci(n):\n",
    "    if n == 0:\n",
    "        return 0\n",
    "    if n == 1:\n",
    "        return 1\n",
    "    return fibonacci(n-1) + fibonacci(n-2)\n",
    "\n",
    "print(fibonacci(10))"
   ]
  },
  {
   "cell_type": "code",
   "execution_count": 18,
   "id": "0a3e302b-88ac-4eaf-b4d0-8b147fd6c592",
   "metadata": {},
   "outputs": [
    {
     "name": "stdout",
     "output_type": "stream",
     "text": [
      "3\n",
      "Olá mundo\n"
     ]
    }
   ],
   "source": [
    "def quadratica(x):\n",
    "  return x*x\n",
    "\n",
    "lambda x: x*x\n",
    "lambda a,b: a+b\n",
    "lambda x: x[0].upper() + x[1:]\n",
    "\n",
    "\n",
    "f1 = lambda a,b: a+b\n",
    "print(f1(1, 2))\n",
    "f2 = lambda x: x[0].upper() + x[1:]\n",
    "print(f2('olá mundo'))"
   ]
  },
  {
   "cell_type": "code",
   "execution_count": 2,
   "id": "6380cfab-3cec-4879-801b-b246973951c6",
   "metadata": {},
   "outputs": [
    {
     "name": "stdout",
     "output_type": "stream",
     "text": [
      "[1, 5, 6, 19, 20]\n",
      "['e', 'funcional', 'legal', 'programacao']\n"
     ]
    }
   ],
   "source": [
    "print(sorted([20, 1, 5, 19, 6]))\n",
    "print(sorted(['programacao', 'funcional', 'e', 'legal']))\n",
    "\n",
    "print(sorted(['programacao', 'funcional', 'e', 'legal'], key=lambda x: len(x)))"
   ]
  },
  {
   "cell_type": "code",
   "execution_count": 4,
   "id": "01406982-39a6-473d-89e2-822bd75c660c",
   "metadata": {},
   "outputs": [
    {
     "name": "stdout",
     "output_type": "stream",
     "text": [
      "1\n",
      "2\n",
      "5\n",
      "19\n",
      "2\n",
      "3\n",
      "6\n",
      "20\n"
     ]
    }
   ],
   "source": [
    "anos = [1.5, 2.3, 5.0, 19.4]\n",
    "anos_inteiros = map(int, anos)\n",
    "anos_inteiros_mais_um = map(lambda x: int(x + 1), anos)\n",
    "for ano in anos_inteiros:\n",
    "  print(ano)\n",
    "for ano in anos_inteiros_mais_um:\n",
    "  print(ano)"
   ]
  },
  {
   "cell_type": "code",
   "execution_count": 8,
   "id": "f53ab982-9651-4a13-a8fe-96c518e05d64",
   "metadata": {},
   "outputs": [
    {
     "name": "stdout",
     "output_type": "stream",
     "text": [
      "['bom', 'ruim', 'bom', 'médio', 'ruim', 'bom', 'bom', 'ruim', 'bom', 'médio']\n",
      "3 2 5\n"
     ]
    }
   ],
   "source": [
    "def categoria(nota):\n",
    "  if nota < 5.0:\n",
    "    return 'ruim'\n",
    "  elif 5.0 <= nota <= 7.0:\n",
    "    return 'médio'\n",
    "  else:\n",
    "    return 'bom'\n",
    "\n",
    "notas = [9.87, 3.15, 7.53, 6.17, 0.53, 9.55, 7.7, 1.88, 7.9, 6.01]\n",
    "classificacao = list(map(categoria, notas))\n",
    "print(classificacao)\n",
    "\n",
    "filmes_ruins = list(filter(lambda x: x == 'ruim', classificacao))\n",
    "filmes_medios = list(filter(lambda x: x == 'médio', classificacao))\n",
    "filmes_bons = list(filter(lambda x: x == 'bom', classificacao))\n",
    "\n",
    "print(len(filmes_ruins), len(filmes_medios), len(filmes_bons))"
   ]
  },
  {
   "cell_type": "code",
   "execution_count": 12,
   "id": "b243fd67-de2a-4504-8431-489be7803286",
   "metadata": {},
   "outputs": [
    {
     "name": "stdout",
     "output_type": "stream",
     "text": [
      "True\n",
      "False\n",
      "True\n",
      "False\n",
      "True\n"
     ]
    }
   ],
   "source": [
    "valores_verdadeiros = [True, True, True]\n",
    "valores_mistos = [True, False, True]\n",
    "print(all(valores_verdadeiros)) \n",
    "print(all(valores_mistos))\n",
    "\n",
    "valores_mistos = [False, False, True]\n",
    "valores_falsos = [False, False, False]\n",
    "print(any(valores_mistos))\n",
    "print(any(valores_falsos))\n",
    "\n",
    "\n",
    "novas_categorias = ['bom', 'bom', 'bom', 'ruim', 'bom', 'médio']\n",
    "categorias_bom = list(map(lambda x: x == 'bom', novas_categorias))\n",
    "print(any(categorias_bom))"
   ]
  },
  {
   "cell_type": "code",
   "execution_count": null,
   "id": "2574b689-248a-49ef-a55b-67af30c5ad5c",
   "metadata": {},
   "outputs": [],
   "source": []
  }
 ],
 "metadata": {
  "kernelspec": {
   "display_name": "Python 3 (ipykernel)",
   "language": "python",
   "name": "python3"
  },
  "language_info": {
   "codemirror_mode": {
    "name": "ipython",
    "version": 3
   },
   "file_extension": ".py",
   "mimetype": "text/x-python",
   "name": "python",
   "nbconvert_exporter": "python",
   "pygments_lexer": "ipython3",
   "version": "3.12.4"
  }
 },
 "nbformat": 4,
 "nbformat_minor": 5
}
