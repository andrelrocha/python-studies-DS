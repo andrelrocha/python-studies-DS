{
 "cells": [
  {
   "cell_type": "code",
   "execution_count": 12,
   "id": "ffe16ffd-6d81-476d-a455-4bc67193bdb8",
   "metadata": {},
   "outputs": [
    {
     "name": "stdout",
     "output_type": "stream",
     "text": [
      "10\n",
      "5.0\n",
      "5\n",
      "20.0\n"
     ]
    }
   ],
   "source": [
    "class Livro:\n",
    "    titulo: ''\n",
    "    copias: 0\n",
    "    preco: 0.0\n",
    "\n",
    "    def aumenta_preco(self, preco_novo):\n",
    "        self.preco = preco_novo\n",
    "    \n",
    "    def vende_copias(self, copias_vendidas):\n",
    "        self.copias -= copias_vendidas\n",
    "\n",
    "livro = Livro()\n",
    "livro.titulo = 'POO'\n",
    "livro.copias = 10\n",
    "livro.preco = 5.0\n",
    "\n",
    "print(livro.copias)\n",
    "print(livro.preco)\n",
    "\n",
    "livro.aumenta_preco(20.0)\n",
    "livro.vende_copias(5)\n",
    "\n",
    "print(livro.copias)\n",
    "print(livro.preco)"
   ]
  },
  {
   "cell_type": "code",
   "execution_count": 27,
   "id": "f940ba76-1cac-4053-920f-55ddac06b8e3",
   "metadata": {},
   "outputs": [
    {
     "name": "stdout",
     "output_type": "stream",
     "text": [
      "Título: POO; Estoque: 10; Preço: R$100.0\n",
      "Título: POO; Estoque: 5; Preço: R$20.0\n",
      "Título: Introdução a Python; Estoque: 30; Preço: R$27.5\n",
      "Título: Java para Iniciantes; Estoque: 15; Preço: R$38.5\n",
      "Título: João das Neves e os Guerreiros; Estoque: 23; Preço: R$10.0\n",
      "Título: Lógica de Programação Avançada; Estoque: 2; Preço: R$100.0\n",
      "Título: João das Neves e os Guerreiros; Estoque: 20; Preço: R$10.0\n",
      "Tentando fazer atualização …\n",
      "Preço negativo.\n",
      "Fim da operação.\n"
     ]
    }
   ],
   "source": [
    "class Livro:\n",
    "    def __init__(self, titulo = '', copias = 0, preco = 0.0):\n",
    "        self.titulo = titulo\n",
    "        self.copias = copias\n",
    "        self.preco = preco\n",
    "\n",
    "    def __str__(self):\n",
    "        return 'Título: {}; Estoque: {}; Preço: R${}'.format(self.titulo, self.copias, self.preco)\n",
    "\n",
    "    def muda_preco(self, preco_novo):\n",
    "        if preco_novo < 0.0:\n",
    "            raise Exception('Preço negativo.')\n",
    "        self.preco = preco_novo\n",
    "    \n",
    "    def vende_copias(self, copias_vendidas):\n",
    "        self.copias -= copias_vendidas\n",
    "\n",
    "livro = Livro(\"POO\", 10, 100.00)\n",
    "\n",
    "print(livro)\n",
    "\n",
    "livro.muda_preco(20.0)\n",
    "livro.vende_copias(5)\n",
    "\n",
    "print(livro)\n",
    "\n",
    "livros = [Livro('João das Neves e os Guerreiros', 23, 10.0), Livro('Introdução a Python', 30, 27.50), Livro('Lógica de Programação Avançada', 2, 100.0), Livro('Java para Iniciantes', 15, 38.50)]\n",
    "for livro in sorted(livros, key=lambda l : l.titulo):\n",
    "    print(livro)      \n",
    "    \n",
    "livros[0].vende_copias(3)\n",
    "print(livros[0])  \n",
    "\n",
    "try:\n",
    "    print('Tentando fazer atualização …')\n",
    "    livro.muda_preco(-5.0)\n",
    "    print('Atualização concluída!')\n",
    "except Exception as excp:\n",
    "    print(excp)\n",
    "    print('Fim da operação.')\n",
    "                                                                                                                                                               "
   ]
  },
  {
   "cell_type": "code",
   "execution_count": 31,
   "id": "6f580b04-19a6-4e92-adbd-e8728b306804",
   "metadata": {},
   "outputs": [
    {
     "name": "stdout",
     "output_type": "stream",
     "text": [
      "nome: Papoco especie: Cachorro fome: 0\n"
     ]
    }
   ],
   "source": [
    "class Animal:\n",
    "    def __init__(self, nome = '', especie = '', fome = 0):\n",
    "        self.nome = nome\n",
    "        self.especie = especie\n",
    "        self.fome = fome\n",
    "\n",
    "    def __str__(self):\n",
    "        return \"nome: {}, especie: {}, fome: {}\".format(self.nome, self.especie, self.fome)\n",
    "\n",
    "    def andar(self):\n",
    "        self.fome += 1\n",
    "\n",
    "    def comer(self, quantidade):\n",
    "        try: \n",
    "            if quantidade > self.fome:\n",
    "                self.fome = 0\n",
    "                raise Exception('Houve sobra de comida, ou seja, o animal comeu até ficar saciado e deixou o resto da comida no prato.')\n",
    "            self.fome -= quantidade\n",
    "        except Exception as e:\n",
    "            print(e)\n",
    "            \n",
    "\n",
    "papoco = Animal('Papoco', 'Cachorro')\n",
    "print(papoco)"
   ]
  },
  {
   "cell_type": "code",
   "execution_count": null,
   "id": "6e1e0173-4995-4022-aa75-290fd456584f",
   "metadata": {},
   "outputs": [],
   "source": []
  }
 ],
 "metadata": {
  "kernelspec": {
   "display_name": "Python 3 (ipykernel)",
   "language": "python",
   "name": "python3"
  },
  "language_info": {
   "codemirror_mode": {
    "name": "ipython",
    "version": 3
   },
   "file_extension": ".py",
   "mimetype": "text/x-python",
   "name": "python",
   "nbconvert_exporter": "python",
   "pygments_lexer": "ipython3",
   "version": "3.12.4"
  }
 },
 "nbformat": 4,
 "nbformat_minor": 5
}
