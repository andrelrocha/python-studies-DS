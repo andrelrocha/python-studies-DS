{
 "cells": [
  {
   "cell_type": "code",
   "execution_count": 12,
   "id": "ffe16ffd-6d81-476d-a455-4bc67193bdb8",
   "metadata": {},
   "outputs": [
    {
     "name": "stdout",
     "output_type": "stream",
     "text": [
      "10\n",
      "5.0\n",
      "5\n",
      "20.0\n"
     ]
    }
   ],
   "source": [
    "class Livro:\n",
    "    titulo: ''\n",
    "    copias: 0\n",
    "    preco: 0.0\n",
    "\n",
    "    def aumenta_preco(self, preco_novo):\n",
    "        self.preco = preco_novo\n",
    "    \n",
    "    def vende_copias(self, copias_vendidas):\n",
    "        self.copias -= copias_vendidas\n",
    "\n",
    "livro = Livro()\n",
    "livro.titulo = 'POO'\n",
    "livro.copias = 10\n",
    "livro.preco = 5.0\n",
    "\n",
    "print(livro.copias)\n",
    "print(livro.preco)\n",
    "\n",
    "livro.aumenta_preco(20.0)\n",
    "livro.vende_copias(5)\n",
    "\n",
    "print(livro.copias)\n",
    "print(livro.preco)"
   ]
  },
  {
   "cell_type": "code",
   "execution_count": 27,
   "id": "f940ba76-1cac-4053-920f-55ddac06b8e3",
   "metadata": {},
   "outputs": [
    {
     "name": "stdout",
     "output_type": "stream",
     "text": [
      "Título: POO; Estoque: 10; Preço: R$100.0\n",
      "Título: POO; Estoque: 5; Preço: R$20.0\n",
      "Título: Introdução a Python; Estoque: 30; Preço: R$27.5\n",
      "Título: Java para Iniciantes; Estoque: 15; Preço: R$38.5\n",
      "Título: João das Neves e os Guerreiros; Estoque: 23; Preço: R$10.0\n",
      "Título: Lógica de Programação Avançada; Estoque: 2; Preço: R$100.0\n",
      "Título: João das Neves e os Guerreiros; Estoque: 20; Preço: R$10.0\n",
      "Tentando fazer atualização …\n",
      "Preço negativo.\n",
      "Fim da operação.\n"
     ]
    }
   ],
   "source": [
    "class Livro:\n",
    "    def __init__(self, titulo = '', copias = 0, preco = 0.0):\n",
    "        self.titulo = titulo\n",
    "        self.copias = copias\n",
    "        self.preco = preco\n",
    "\n",
    "    def __str__(self):\n",
    "        return 'Título: {}; Estoque: {}; Preço: R${}'.format(self.titulo, self.copias, self.preco)\n",
    "\n",
    "    def muda_preco(self, preco_novo):\n",
    "        if preco_novo < 0.0:\n",
    "            raise Exception('Preço negativo.')\n",
    "        self.preco = preco_novo\n",
    "    \n",
    "    def vende_copias(self, copias_vendidas):\n",
    "        self.copias -= copias_vendidas\n",
    "\n",
    "livro = Livro(\"POO\", 10, 100.00)\n",
    "\n",
    "print(livro)\n",
    "\n",
    "livro.muda_preco(20.0)\n",
    "livro.vende_copias(5)\n",
    "\n",
    "print(livro)\n",
    "\n",
    "livros = [Livro('João das Neves e os Guerreiros', 23, 10.0), Livro('Introdução a Python', 30, 27.50), Livro('Lógica de Programação Avançada', 2, 100.0), Livro('Java para Iniciantes', 15, 38.50)]\n",
    "for livro in sorted(livros, key=lambda l : l.titulo):\n",
    "    print(livro)      \n",
    "    \n",
    "livros[0].vende_copias(3)\n",
    "print(livros[0])  \n",
    "\n",
    "try:\n",
    "    print('Tentando fazer atualização …')\n",
    "    livro.muda_preco(-5.0)\n",
    "    print('Atualização concluída!')\n",
    "except Exception as excp:\n",
    "    print(excp)\n",
    "    print('Fim da operação.')\n",
    "                                                                                                                                                               "
   ]
  },
  {
   "cell_type": "code",
   "execution_count": 32,
   "id": "6f580b04-19a6-4e92-adbd-e8728b306804",
   "metadata": {},
   "outputs": [
    {
     "name": "stdin",
     "output_type": "stream",
     "text": [
      "Digite o nome do tamagoshi: papoco\n",
      "Digite a especie do tamagoshi: cachorro\n",
      "Digite a opção desejada: \n",
      " 1) alimentar o pet \n",
      " 2) andar com o pet \n",
      " 3) encerrar o programa 2\n"
     ]
    },
    {
     "name": "stdout",
     "output_type": "stream",
     "text": [
      "Estado do Tamagoshi\n",
      "nome: papoco, especie: cachorro, fome: 1\n"
     ]
    },
    {
     "name": "stdin",
     "output_type": "stream",
     "text": [
      "Digite a opção desejada: \n",
      " 1) alimentar o pet \n",
      " 2) andar com o pet \n",
      " 3) encerrar o programa 2\n"
     ]
    },
    {
     "name": "stdout",
     "output_type": "stream",
     "text": [
      "Estado do Tamagoshi\n",
      "nome: papoco, especie: cachorro, fome: 2\n"
     ]
    },
    {
     "name": "stdin",
     "output_type": "stream",
     "text": [
      "Digite a opção desejada: \n",
      " 1) alimentar o pet \n",
      " 2) andar com o pet \n",
      " 3) encerrar o programa 1\n",
      "Digite a quantidade de comida dada:  3\n"
     ]
    },
    {
     "name": "stdout",
     "output_type": "stream",
     "text": [
      "Houve sobra de comida, ou seja, o animal comeu até ficar saciado e deixou o resto da comida no prato.\n",
      "Estado do Tamagoshi\n",
      "nome: papoco, especie: cachorro, fome: 0\n"
     ]
    },
    {
     "name": "stdin",
     "output_type": "stream",
     "text": [
      "Digite a opção desejada: \n",
      " 1) alimentar o pet \n",
      " 2) andar com o pet \n",
      " 3) encerrar o programa 3\n"
     ]
    }
   ],
   "source": [
    "class Animal:\n",
    "    def __init__(self, nome = '', especie = '', fome = 0):\n",
    "        self.nome = nome\n",
    "        self.especie = especie\n",
    "        self.fome = fome\n",
    "\n",
    "    def __str__(self):\n",
    "        return \"nome: {}, especie: {}, fome: {}\".format(self.nome, self.especie, self.fome)\n",
    "\n",
    "    def andar(self):\n",
    "        self.fome += 1\n",
    "\n",
    "    def comer(self, quantidade):\n",
    "        try: \n",
    "            if quantidade > self.fome:\n",
    "                self.fome = 0\n",
    "                raise Exception('Houve sobra de comida, ou seja, o animal comeu até ficar saciado e deixou o resto da comida no prato.')\n",
    "            self.fome -= quantidade\n",
    "        except Exception as e:\n",
    "            print(e)\n",
    "\n",
    "nome = input(\"Digite o nome do tamagoshi:\")\n",
    "especie = input(\"Digite a especie do tamagoshi:\")\n",
    "tamagoshi = Animal(nome, especie)\n",
    "\n",
    "while True:\n",
    "    escolha = int(input(\"Digite a opção desejada: \\n 1) alimentar o pet \\n 2) andar com o pet \\n 3) encerrar o programa\"))\n",
    "    if escolha == 3:\n",
    "        break\n",
    "    elif escolha == 2:\n",
    "        tamagoshi.andar()\n",
    "    elif escolha == 1:\n",
    "        quantidade_comida = int(input(\"Digite a quantidade de comida dada: \"))\n",
    "        tamagoshi.comer(quantidade_comida)\n",
    "    else: \n",
    "        print(\"Opção não válida\")\n",
    "\n",
    "    print(\"Estado do Tamagoshi\")\n",
    "    print(tamagoshi)\n",
    "\n"
   ]
  },
  {
   "cell_type": "markdown",
   "id": "96e0276a-2258-4008-89bf-6a5db6f24650",
   "metadata": {},
   "source": [
    "Descrição do Problema\n",
    "Imagine que você está criando um pequeno jogo onde o jogador gerencia um robô assistente. O robô tem os seguintes atributos:\n",
    "\n",
    "nome: o nome do robô.\n",
    "modelo: o modelo do robô.\n",
    "energia: o nível de energia do robô, que começa em 100 (máxima energia).\n",
    "O robô terá os seguintes comportamentos:\n",
    "\n",
    "Um método __str__() que retorna uma string com o estado atual do robô.\n",
    "Um método executar_tarefa() que diminui a energia do robô em uma quantidade determinada (passada como parâmetro). Se o robô não tiver energia suficiente para executar a tarefa, ele informará que a tarefa não pode ser concluída.\n",
    "Um método recarregar() que aumenta a energia do robô em uma quantidade determinada (passada como parâmetro). Se o robô já estiver com a energia no máximo, ele gera uma exceção informando que a recarga foi excessiva."
   ]
  },
  {
   "cell_type": "code",
   "execution_count": 38,
   "id": "6e1e0173-4995-4022-aa75-290fd456584f",
   "metadata": {},
   "outputs": [
    {
     "name": "stdout",
     "output_type": "stream",
     "text": [
      "\n",
      "Menu:\n",
      "1 - Executar tarefa\n",
      "2 - Recarregar energia\n",
      "3 - Finalizar\n",
      "nome: R2-D2, modelo: Assistente, energia: 100\n"
     ]
    },
    {
     "name": "stdin",
     "output_type": "stream",
     "text": [
      "Escolha uma opção:  1\n",
      "Informe a quantidade de energia necessária para a tarefa:  50\n"
     ]
    },
    {
     "name": "stdout",
     "output_type": "stream",
     "text": [
      "\n",
      "Menu:\n",
      "1 - Executar tarefa\n",
      "2 - Recarregar energia\n",
      "3 - Finalizar\n",
      "nome: R2-D2, modelo: Assistente, energia: 50\n"
     ]
    },
    {
     "name": "stdin",
     "output_type": "stream",
     "text": [
      "Escolha uma opção:  2\n",
      "Informe a quantidade de energia para recarga:  50\n"
     ]
    },
    {
     "name": "stdout",
     "output_type": "stream",
     "text": [
      "\n",
      "Menu:\n",
      "1 - Executar tarefa\n",
      "2 - Recarregar energia\n",
      "3 - Finalizar\n",
      "nome: R2-D2, modelo: Assistente, energia: 100\n"
     ]
    },
    {
     "name": "stdin",
     "output_type": "stream",
     "text": [
      "Escolha uma opção:  1\n",
      "Informe a quantidade de energia necessária para a tarefa:  100\n"
     ]
    },
    {
     "name": "stdout",
     "output_type": "stream",
     "text": [
      "\n",
      "Menu:\n",
      "1 - Executar tarefa\n",
      "2 - Recarregar energia\n",
      "3 - Finalizar\n",
      "nome: R2-D2, modelo: Assistente, energia: 0\n"
     ]
    },
    {
     "name": "stdin",
     "output_type": "stream",
     "text": [
      "Escolha uma opção:  1\n",
      "Informe a quantidade de energia necessária para a tarefa:  10,0\n"
     ]
    },
    {
     "ename": "ValueError",
     "evalue": "invalid literal for int() with base 10: '10,0'",
     "output_type": "error",
     "traceback": [
      "\u001b[1;31m---------------------------------------------------------------------------\u001b[0m",
      "\u001b[1;31mValueError\u001b[0m                                Traceback (most recent call last)",
      "Cell \u001b[1;32mIn[38], line 38\u001b[0m\n\u001b[0;32m     35\u001b[0m opcao \u001b[38;5;241m=\u001b[39m \u001b[38;5;28minput\u001b[39m(\u001b[38;5;124m\"\u001b[39m\u001b[38;5;124mEscolha uma opção: \u001b[39m\u001b[38;5;124m\"\u001b[39m)\n\u001b[0;32m     37\u001b[0m \u001b[38;5;28;01mif\u001b[39;00m opcao \u001b[38;5;241m==\u001b[39m \u001b[38;5;124m\"\u001b[39m\u001b[38;5;124m1\u001b[39m\u001b[38;5;124m\"\u001b[39m:\n\u001b[1;32m---> 38\u001b[0m     energia_gasta \u001b[38;5;241m=\u001b[39m \u001b[38;5;28mint\u001b[39m(\u001b[38;5;28minput\u001b[39m(\u001b[38;5;124m\"\u001b[39m\u001b[38;5;124mInforme a quantidade de energia necessária para a tarefa: \u001b[39m\u001b[38;5;124m\"\u001b[39m))\n\u001b[0;32m     39\u001b[0m     robo\u001b[38;5;241m.\u001b[39mexecutar_tarefa(energia_gasta)\n\u001b[0;32m     40\u001b[0m \u001b[38;5;28;01melif\u001b[39;00m opcao \u001b[38;5;241m==\u001b[39m \u001b[38;5;124m\"\u001b[39m\u001b[38;5;124m2\u001b[39m\u001b[38;5;124m\"\u001b[39m:\n",
      "\u001b[1;31mValueError\u001b[0m: invalid literal for int() with base 10: '10,0'"
     ]
    }
   ],
   "source": [
    "class Robo:\n",
    "    def __init__(self, nome = '', modelo = '', energia = 100):\n",
    "        self.nome = nome\n",
    "        self.modelo = modelo\n",
    "        self.energia = energia\n",
    "\n",
    "    def __str__(self):\n",
    "        return \"nome: {}, modelo: {}, energia: {}\".format(self.nome, self.modelo, self.energia)\n",
    "\n",
    "    def executar_tarefa(self, quantidade_energia):\n",
    "        if self.energia >= quantidade_energia:\n",
    "            self.energia -= quantidade_energia\n",
    "        else:\n",
    "            raise Exception('O robô não tem energia suficiente para a atividade desejada')\n",
    "\n",
    "    def recarregar(self, quantidade_energia):\n",
    "        try:\n",
    "            if self.energia + quantidade_energia <= 100:\n",
    "                self.energia += quantidade_energia\n",
    "            else: \n",
    "                self.energia = 100\n",
    "                raise Exception('A recarga foi excessiva')\n",
    "        except Exception as e:\n",
    "            print(e)\n",
    "\n",
    "robo = Robo(\"R2-D2\", \"Assistente\")\n",
    "\n",
    "while True:\n",
    "    print(\"\\nMenu:\")\n",
    "    print(\"1 - Executar tarefa\")\n",
    "    print(\"2 - Recarregar energia\")\n",
    "    print(\"3 - Finalizar\")\n",
    "    \n",
    "    print(robo)\n",
    "    opcao = input(\"Escolha uma opção: \")\n",
    "\n",
    "    if opcao == \"1\":\n",
    "        energia_gasta = int(input(\"Informe a quantidade de energia necessária para a tarefa: \"))\n",
    "        robo.executar_tarefa(energia_gasta)\n",
    "    elif opcao == \"2\":\n",
    "        energia_carregada = int(input(\"Informe a quantidade de energia para recarga: \"))    \n",
    "        robo.recarregar(energia_gasta)\n",
    "    elif opcao == \"3\":\n",
    "        print(\"Encerrando o programa.\")\n",
    "        break\n",
    "    else:\n",
    "        print(\"Opção inválida! Tente novamente.\")"
   ]
  },
  {
   "cell_type": "code",
   "execution_count": null,
   "id": "9815efd9-c659-404f-abbd-493063ffac82",
   "metadata": {},
   "outputs": [],
   "source": []
  }
 ],
 "metadata": {
  "kernelspec": {
   "display_name": "Python 3 (ipykernel)",
   "language": "python",
   "name": "python3"
  },
  "language_info": {
   "codemirror_mode": {
    "name": "ipython",
    "version": 3
   },
   "file_extension": ".py",
   "mimetype": "text/x-python",
   "name": "python",
   "nbconvert_exporter": "python",
   "pygments_lexer": "ipython3",
   "version": "3.12.4"
  }
 },
 "nbformat": 4,
 "nbformat_minor": 5
}
