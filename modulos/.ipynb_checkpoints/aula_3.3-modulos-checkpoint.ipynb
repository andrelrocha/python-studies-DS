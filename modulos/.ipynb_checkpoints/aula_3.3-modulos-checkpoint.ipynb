{
 "cells": [
  {
   "cell_type": "code",
   "execution_count": 3,
   "id": "ddf83767-444e-42be-a252-9f0cecf3760e",
   "metadata": {},
   "outputs": [
    {
     "name": "stdout",
     "output_type": "stream",
     "text": [
      "Bilu, sexo m, 5.2Kg, nasceu em 2015-05-31\n"
     ]
    },
    {
     "ename": "TypeError",
     "evalue": "'<' not supported between instances of 'datetime.date' and 'float'",
     "output_type": "error",
     "traceback": [
      "\u001b[1;31m---------------------------------------------------------------------------\u001b[0m",
      "\u001b[1;31mTypeError\u001b[0m                                 Traceback (most recent call last)",
      "Cell \u001b[1;32mIn[3], line 17\u001b[0m\n\u001b[0;32m      5\u001b[0m \u001b[38;5;28mprint\u001b[39m(bilu)\n\u001b[0;32m      8\u001b[0m gatos \u001b[38;5;241m=\u001b[39m [\n\u001b[0;32m      9\u001b[0m     Gato(\u001b[38;5;124m'\u001b[39m\u001b[38;5;124mpipoca\u001b[39m\u001b[38;5;124m'\u001b[39m, \u001b[38;5;124m'\u001b[39m\u001b[38;5;124mf\u001b[39m\u001b[38;5;124m'\u001b[39m, \u001b[38;5;241m4.99\u001b[39m, date(\u001b[38;5;241m2006\u001b[39m, \u001b[38;5;241m11\u001b[39m, \u001b[38;5;241m26\u001b[39m)),\n\u001b[0;32m     10\u001b[0m     Gato(\u001b[38;5;124m'\u001b[39m\u001b[38;5;124mzezinho\u001b[39m\u001b[38;5;124m'\u001b[39m, \u001b[38;5;124m'\u001b[39m\u001b[38;5;124mm\u001b[39m\u001b[38;5;124m'\u001b[39m, \u001b[38;5;241m5.12\u001b[39m, date(\u001b[38;5;241m2011\u001b[39m, \u001b[38;5;241m11\u001b[39m, \u001b[38;5;241m7\u001b[39m)),\n\u001b[1;32m   (...)\u001b[0m\n\u001b[0;32m     14\u001b[0m     Gato(\u001b[38;5;124m'\u001b[39m\u001b[38;5;124mzig\u001b[39m\u001b[38;5;124m'\u001b[39m, \u001b[38;5;124m'\u001b[39m\u001b[38;5;124mm\u001b[39m\u001b[38;5;124m'\u001b[39m, \u001b[38;5;241m6.34\u001b[39m, date(\u001b[38;5;241m2010\u001b[39m, \u001b[38;5;241m6\u001b[39m, \u001b[38;5;241m18\u001b[39m)),\n\u001b[0;32m     15\u001b[0m ]\n\u001b[1;32m---> 17\u001b[0m gatos_repartidos \u001b[38;5;241m=\u001b[39m repartir_por_idade(gatos, um_gato\u001b[38;5;241m.\u001b[39midade())\n\u001b[0;32m     18\u001b[0m gatos_velhos \u001b[38;5;241m=\u001b[39m gatos_repartidos[\u001b[38;5;241m1\u001b[39m]\n\u001b[0;32m     20\u001b[0m \u001b[38;5;28;01mfor\u001b[39;00m gato \u001b[38;5;129;01min\u001b[39;00m gatos_velhos:\n",
      "File \u001b[1;32m~\\introducao-python\\modulos\\miau.py:29\u001b[0m, in \u001b[0;36mrepartir_por_idade\u001b[1;34m(gatos, anos_de_idade)\u001b[0m\n\u001b[0;32m     26\u001b[0m gatos_mais_novos \u001b[38;5;241m=\u001b[39m []\n\u001b[0;32m     28\u001b[0m \u001b[38;5;28;01mfor\u001b[39;00m gato \u001b[38;5;129;01min\u001b[39;00m gatos:\n\u001b[1;32m---> 29\u001b[0m     \u001b[38;5;28;01mif\u001b[39;00m gato\u001b[38;5;241m.\u001b[39mnasc \u001b[38;5;241m<\u001b[39m anos_de_idade:\n\u001b[0;32m     30\u001b[0m         gatos_mais_novos\u001b[38;5;241m.\u001b[39mappend(gato)\n\u001b[0;32m     31\u001b[0m     \u001b[38;5;28;01melse\u001b[39;00m:\n",
      "\u001b[1;31mTypeError\u001b[0m: '<' not supported between instances of 'datetime.date' and 'float'"
     ]
    }
   ],
   "source": [
    "from datetime import date \n",
    "from miau import Gato, repartir_por_idade, um_gato\n",
    "\n",
    "bilu = Gato('Bilu', 'm', 5.2, date(2015, 5, 31))\n",
    "print(bilu)\n",
    "\n",
    "\n",
    "gatos = [\n",
    "    Gato('pipoca', 'f', 4.99, date(2006, 11, 26)),\n",
    "    Gato('zezinho', 'm', 5.12, date(2011, 11, 7)),\n",
    "    Gato('pantro', 'm', 6.88, date(2007, 5, 14)),\n",
    "    Gato('zefa', 'f', 7.05, date(2017, 2, 20)),\n",
    "    Gato('noz moscada', 'f', 6.27, date(2020, 2, 5)),\n",
    "    Gato('zig', 'm', 6.34, date(2010, 6, 18)),\n",
    "]\n",
    "\n",
    "gatos_repartidos = repartir_por_idade(gatos, um_gato.idade())\n",
    "gatos_velhos = gatos_repartidos[1]\n",
    "\n",
    "for gato in gatos_velhos:\n",
    "    print(gato)"
   ]
  },
  {
   "cell_type": "code",
   "execution_count": null,
   "id": "c7c81671-cc19-4074-bd47-6fac768ae923",
   "metadata": {},
   "outputs": [],
   "source": []
  },
  {
   "cell_type": "code",
   "execution_count": null,
   "id": "a5d8899e-23a2-4033-933e-c04c4baf3d44",
   "metadata": {},
   "outputs": [],
   "source": []
  }
 ],
 "metadata": {
  "kernelspec": {
   "display_name": "Python 3 (ipykernel)",
   "language": "python",
   "name": "python3"
  },
  "language_info": {
   "codemirror_mode": {
    "name": "ipython",
    "version": 3
   },
   "file_extension": ".py",
   "mimetype": "text/x-python",
   "name": "python",
   "nbconvert_exporter": "python",
   "pygments_lexer": "ipython3",
   "version": "3.12.4"
  }
 },
 "nbformat": 4,
 "nbformat_minor": 5
}
