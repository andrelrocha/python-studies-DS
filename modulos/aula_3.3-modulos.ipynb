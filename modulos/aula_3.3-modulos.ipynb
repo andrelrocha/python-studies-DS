{
 "cells": [
  {
   "cell_type": "code",
   "execution_count": 1,
   "id": "ddf83767-444e-42be-a252-9f0cecf3760e",
   "metadata": {},
   "outputs": [
    {
     "name": "stdout",
     "output_type": "stream",
     "text": [
      "Bilu, sexo m, 5.2Kg, nasceu em 2015-05-31\n",
      "zezinho, sexo m, 5.12Kg, nasceu em 2011-11-07\n",
      "zefa, sexo f, 7.05Kg, nasceu em 2017-02-20\n",
      "noz moscada, sexo f, 6.27Kg, nasceu em 2020-02-05\n"
     ]
    }
   ],
   "source": [
    "from datetime import date \n",
    "from miau import Gato, repartir_por_idade, um_gato\n",
    "\n",
    "bilu = Gato('Bilu', 'm', 5.2, date(2015, 5, 31))\n",
    "print(bilu)\n",
    "\n",
    "\n",
    "gatos = [\n",
    "    Gato('pipoca', 'f', 4.99, date(2006, 11, 26)),\n",
    "    Gato('zezinho', 'm', 5.12, date(2011, 11, 7)),\n",
    "    Gato('pantro', 'm', 6.88, date(2007, 5, 14)),\n",
    "    Gato('zefa', 'f', 7.05, date(2017, 2, 20)),\n",
    "    Gato('noz moscada', 'f', 6.27, date(2020, 2, 5)),\n",
    "    Gato('zig', 'm', 6.34, date(2010, 6, 18)),\n",
    "]\n",
    "\n",
    "gatos_repartidos = repartir_por_idade(gatos, um_gato.idade())\n",
    "gatos_velhos = gatos_repartidos[1]\n",
    "\n",
    "for gato in gatos_velhos:\n",
    "    print(gato)"
   ]
  },
  {
   "cell_type": "code",
   "execution_count": 2,
   "id": "c7c81671-cc19-4074-bd47-6fac768ae923",
   "metadata": {},
   "outputs": [
    {
     "name": "stdout",
     "output_type": "stream",
     "text": [
      "55\n"
     ]
    }
   ],
   "source": [
    "import br.tel\n",
    "\n",
    "print(br.tel.ddi)"
   ]
  },
  {
   "cell_type": "code",
   "execution_count": null,
   "id": "a5d8899e-23a2-4033-933e-c04c4baf3d44",
   "metadata": {},
   "outputs": [],
   "source": []
  }
 ],
 "metadata": {
  "kernelspec": {
   "display_name": "Python 3 (ipykernel)",
   "language": "python",
   "name": "python3"
  },
  "language_info": {
   "codemirror_mode": {
    "name": "ipython",
    "version": 3
   },
   "file_extension": ".py",
   "mimetype": "text/x-python",
   "name": "python",
   "nbconvert_exporter": "python",
   "pygments_lexer": "ipython3",
   "version": "3.12.4"
  }
 },
 "nbformat": 4,
 "nbformat_minor": 5
}
